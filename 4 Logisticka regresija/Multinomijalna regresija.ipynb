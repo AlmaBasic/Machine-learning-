{
 "cells": [
  {
   "cell_type": "markdown",
   "id": "e7f2e08a-c004-4385-829c-37080d7e6424",
   "metadata": {},
   "source": [
    "MULTINOMIJALNA LOGISTICKA REGRESIJA - vise klasa"
   ]
  },
  {
   "cell_type": "code",
   "execution_count": 11,
   "id": "89d1ffc2-95c5-4008-a8c5-0114b7a03be1",
   "metadata": {},
   "outputs": [],
   "source": [
    "import numpy as np\n",
    "import pandas as pd\n",
    "import matplotlib.pyplot as plt\n",
    "import seaborn as sns\n",
    "from scipy import stats\n",
    "import random"
   ]
  },
  {
   "cell_type": "code",
   "execution_count": 2,
   "id": "5b680601-7957-4852-80bc-2ec14ea56ded",
   "metadata": {},
   "outputs": [
    {
     "data": {
      "text/html": [
       "<div>\n",
       "<style scoped>\n",
       "    .dataframe tbody tr th:only-of-type {\n",
       "        vertical-align: middle;\n",
       "    }\n",
       "\n",
       "    .dataframe tbody tr th {\n",
       "        vertical-align: top;\n",
       "    }\n",
       "\n",
       "    .dataframe thead th {\n",
       "        text-align: right;\n",
       "    }\n",
       "</style>\n",
       "<table border=\"1\" class=\"dataframe\">\n",
       "  <thead>\n",
       "    <tr style=\"text-align: right;\">\n",
       "      <th></th>\n",
       "      <th>sepal_length</th>\n",
       "      <th>sepal_width</th>\n",
       "      <th>petal_length</th>\n",
       "      <th>petal_width</th>\n",
       "      <th>species</th>\n",
       "    </tr>\n",
       "  </thead>\n",
       "  <tbody>\n",
       "    <tr>\n",
       "      <th>0</th>\n",
       "      <td>5.1</td>\n",
       "      <td>3.5</td>\n",
       "      <td>1.4</td>\n",
       "      <td>0.2</td>\n",
       "      <td>Iris-setosa</td>\n",
       "    </tr>\n",
       "    <tr>\n",
       "      <th>1</th>\n",
       "      <td>4.9</td>\n",
       "      <td>3.0</td>\n",
       "      <td>1.4</td>\n",
       "      <td>0.2</td>\n",
       "      <td>Iris-setosa</td>\n",
       "    </tr>\n",
       "    <tr>\n",
       "      <th>2</th>\n",
       "      <td>4.7</td>\n",
       "      <td>3.2</td>\n",
       "      <td>1.3</td>\n",
       "      <td>0.2</td>\n",
       "      <td>Iris-setosa</td>\n",
       "    </tr>\n",
       "    <tr>\n",
       "      <th>3</th>\n",
       "      <td>4.6</td>\n",
       "      <td>3.1</td>\n",
       "      <td>1.5</td>\n",
       "      <td>0.2</td>\n",
       "      <td>Iris-setosa</td>\n",
       "    </tr>\n",
       "    <tr>\n",
       "      <th>4</th>\n",
       "      <td>5.0</td>\n",
       "      <td>3.6</td>\n",
       "      <td>1.4</td>\n",
       "      <td>0.2</td>\n",
       "      <td>Iris-setosa</td>\n",
       "    </tr>\n",
       "  </tbody>\n",
       "</table>\n",
       "</div>"
      ],
      "text/plain": [
       "   sepal_length  sepal_width  petal_length  petal_width      species\n",
       "0           5.1          3.5           1.4          0.2  Iris-setosa\n",
       "1           4.9          3.0           1.4          0.2  Iris-setosa\n",
       "2           4.7          3.2           1.3          0.2  Iris-setosa\n",
       "3           4.6          3.1           1.5          0.2  Iris-setosa\n",
       "4           5.0          3.6           1.4          0.2  Iris-setosa"
      ]
     },
     "execution_count": 2,
     "metadata": {},
     "output_type": "execute_result"
    }
   ],
   "source": [
    "data = pd.read_csv(\"..\\Data\\IRIS.csv\")\n",
    "data.head()"
   ]
  },
  {
   "cell_type": "code",
   "execution_count": 3,
   "id": "555c4887-ba55-41e8-9bd1-6977a41b8c7d",
   "metadata": {},
   "outputs": [
    {
     "name": "stdout",
     "output_type": "stream",
     "text": [
      "<class 'pandas.core.frame.DataFrame'>\n",
      "RangeIndex: 150 entries, 0 to 149\n",
      "Data columns (total 5 columns):\n",
      " #   Column        Non-Null Count  Dtype  \n",
      "---  ------        --------------  -----  \n",
      " 0   sepal_length  150 non-null    float64\n",
      " 1   sepal_width   150 non-null    float64\n",
      " 2   petal_length  150 non-null    float64\n",
      " 3   petal_width   150 non-null    float64\n",
      " 4   species       150 non-null    object \n",
      "dtypes: float64(4), object(1)\n",
      "memory usage: 6.0+ KB\n"
     ]
    }
   ],
   "source": [
    "data.info()"
   ]
  },
  {
   "cell_type": "code",
   "execution_count": 4,
   "id": "c5d95ca1-9cb5-4fb5-a3aa-68324f7b8baa",
   "metadata": {},
   "outputs": [
    {
     "data": {
      "text/html": [
       "<div>\n",
       "<style scoped>\n",
       "    .dataframe tbody tr th:only-of-type {\n",
       "        vertical-align: middle;\n",
       "    }\n",
       "\n",
       "    .dataframe tbody tr th {\n",
       "        vertical-align: top;\n",
       "    }\n",
       "\n",
       "    .dataframe thead th {\n",
       "        text-align: right;\n",
       "    }\n",
       "</style>\n",
       "<table border=\"1\" class=\"dataframe\">\n",
       "  <thead>\n",
       "    <tr style=\"text-align: right;\">\n",
       "      <th></th>\n",
       "      <th>sepal_length</th>\n",
       "      <th>sepal_width</th>\n",
       "      <th>petal_length</th>\n",
       "      <th>petal_width</th>\n",
       "    </tr>\n",
       "  </thead>\n",
       "  <tbody>\n",
       "    <tr>\n",
       "      <th>count</th>\n",
       "      <td>150.000000</td>\n",
       "      <td>150.000000</td>\n",
       "      <td>150.000000</td>\n",
       "      <td>150.000000</td>\n",
       "    </tr>\n",
       "    <tr>\n",
       "      <th>mean</th>\n",
       "      <td>5.843333</td>\n",
       "      <td>3.054000</td>\n",
       "      <td>3.758667</td>\n",
       "      <td>1.198667</td>\n",
       "    </tr>\n",
       "    <tr>\n",
       "      <th>std</th>\n",
       "      <td>0.828066</td>\n",
       "      <td>0.433594</td>\n",
       "      <td>1.764420</td>\n",
       "      <td>0.763161</td>\n",
       "    </tr>\n",
       "    <tr>\n",
       "      <th>min</th>\n",
       "      <td>4.300000</td>\n",
       "      <td>2.000000</td>\n",
       "      <td>1.000000</td>\n",
       "      <td>0.100000</td>\n",
       "    </tr>\n",
       "    <tr>\n",
       "      <th>25%</th>\n",
       "      <td>5.100000</td>\n",
       "      <td>2.800000</td>\n",
       "      <td>1.600000</td>\n",
       "      <td>0.300000</td>\n",
       "    </tr>\n",
       "    <tr>\n",
       "      <th>50%</th>\n",
       "      <td>5.800000</td>\n",
       "      <td>3.000000</td>\n",
       "      <td>4.350000</td>\n",
       "      <td>1.300000</td>\n",
       "    </tr>\n",
       "    <tr>\n",
       "      <th>75%</th>\n",
       "      <td>6.400000</td>\n",
       "      <td>3.300000</td>\n",
       "      <td>5.100000</td>\n",
       "      <td>1.800000</td>\n",
       "    </tr>\n",
       "    <tr>\n",
       "      <th>max</th>\n",
       "      <td>7.900000</td>\n",
       "      <td>4.400000</td>\n",
       "      <td>6.900000</td>\n",
       "      <td>2.500000</td>\n",
       "    </tr>\n",
       "  </tbody>\n",
       "</table>\n",
       "</div>"
      ],
      "text/plain": [
       "       sepal_length  sepal_width  petal_length  petal_width\n",
       "count    150.000000   150.000000    150.000000   150.000000\n",
       "mean       5.843333     3.054000      3.758667     1.198667\n",
       "std        0.828066     0.433594      1.764420     0.763161\n",
       "min        4.300000     2.000000      1.000000     0.100000\n",
       "25%        5.100000     2.800000      1.600000     0.300000\n",
       "50%        5.800000     3.000000      4.350000     1.300000\n",
       "75%        6.400000     3.300000      5.100000     1.800000\n",
       "max        7.900000     4.400000      6.900000     2.500000"
      ]
     },
     "execution_count": 4,
     "metadata": {},
     "output_type": "execute_result"
    }
   ],
   "source": [
    "data.describe()"
   ]
  },
  {
   "cell_type": "code",
   "execution_count": 5,
   "id": "3f035798-f6d8-4e44-8a37-d9faadc9cf3c",
   "metadata": {},
   "outputs": [],
   "source": [
    "classes = data['species'].unique()"
   ]
  },
  {
   "cell_type": "code",
   "execution_count": 7,
   "id": "ca4a51d2-f20a-4b4d-91f6-55e34d101852",
   "metadata": {},
   "outputs": [
    {
     "data": {
      "text/plain": [
       "{'Iris-setosa': 0, 'Iris-versicolor': 1, 'Iris-virginica': 2}"
      ]
     },
     "execution_count": 7,
     "metadata": {},
     "output_type": "execute_result"
    }
   ],
   "source": [
    "classes_dict = {class_name: i for i, class_name in enumerate(classes)}\n",
    "classes_dict"
   ]
  },
  {
   "cell_type": "code",
   "execution_count": 9,
   "id": "30df9d7b-f5aa-4259-91a1-2a9190d4b56d",
   "metadata": {},
   "outputs": [],
   "source": [
    "def species_map(x):\n",
    "    return x.map(classes_dict)\n",
    "\n",
    "data[['species']] = data[['species']].apply(species_map)"
   ]
  },
  {
   "cell_type": "code",
   "execution_count": 13,
   "id": "c4dfc93f-d2d3-4b07-b808-6160c423304b",
   "metadata": {},
   "outputs": [
    {
     "name": "stdout",
     "output_type": "stream",
     "text": [
      "120\n",
      "30\n"
     ]
    }
   ],
   "source": [
    "from sklearn.model_selection import train_test_split\n",
    "\n",
    "np.random.seed(0)\n",
    "\n",
    "df_train, df_test = train_test_split(data, test_size=0.2, random_state=42)\n",
    "df_train = df_train.reset_index(drop=True)\n",
    "df_test = df_test.reset_index(drop=True)\n",
    "\n",
    "print(len(df_train))\n",
    "print(len(df_test))"
   ]
  },
  {
   "cell_type": "code",
   "execution_count": 15,
   "id": "55bc159d-dd01-486e-abc0-200f4a992c54",
   "metadata": {},
   "outputs": [
    {
     "data": {
      "image/png": "[encoded data removed]",
      "text/plain": [
       "<Figure size 1600x1000 with 2 Axes>"
      ]
     },
     "metadata": {},
     "output_type": "display_data"
    }
   ],
   "source": [
    "# GRafik prikazuje linearnu korelaciju svake dvije kolone\n",
    "plt.figure(figsize=(16, 10))\n",
    "sns.heatmap(df_train.corr(), annot=True, cmap='YlGnBu')\n",
    "plt.show()"
   ]
  },
  {
   "cell_type": "code",
   "execution_count": 16,
   "id": "e3047e30-a11e-4d4d-9c1d-e18d2321b5da",
   "metadata": {},
   "outputs": [],
   "source": [
    "def df_to_matrix(df):\n",
    "    return df.iloc[:,:].values\n",
    "\n",
    "y_train = np.array(df_train.pop('species'))\n",
    "x_train = df_to_matrix(df_train)\n",
    "\n",
    "y_test = np.array(df_test.pop('species'))\n",
    "x_test = df_to_matrix(df_test)\n"
   ]
  },
  {
   "cell_type": "code",
   "execution_count": 17,
   "id": "5a5ce016-4ea4-4dcd-8d4f-5736dcaa45a8",
   "metadata": {},
   "outputs": [
    {
     "data": {
      "text/plain": [
       "array([[4.6, 3.6, 1. , 0.2],\n",
       "       [5.7, 4.4, 1.5, 0.4],\n",
       "       [6.7, 3.1, 4.4, 1.4],\n",
       "       [4.8, 3.4, 1.6, 0.2],\n",
       "       [4.4, 3.2, 1.3, 0.2],\n",
       "       [6.3, 2.5, 5. , 1.9],\n",
       "       [6.4, 3.2, 4.5, 1.5],\n",
       "       [5.2, 3.5, 1.5, 0.2],\n",
       "       [5. , 3.6, 1.4, 0.2],\n",
       "       [5.2, 4.1, 1.5, 0.1],\n",
       "       [5.8, 2.7, 5.1, 1.9],\n",
       "       [6. , 3.4, 4.5, 1.6],\n",
       "       [6.7, 3.1, 4.7, 1.5],\n",
       "       [5.4, 3.9, 1.3, 0.4],\n",
       "       [5.4, 3.7, 1.5, 0.2],\n",
       "       [5.5, 2.4, 3.7, 1. ],\n",
       "       [6.3, 2.8, 5.1, 1.5],\n",
       "       [6.4, 3.1, 5.5, 1.8],\n",
       "       [6.6, 3. , 4.4, 1.4],\n",
       "       [7.2, 3.6, 6.1, 2.5],\n",
       "       [5.7, 2.9, 4.2, 1.3],\n",
       "       [7.6, 3. , 6.6, 2.1],\n",
       "       [5.6, 3. , 4.5, 1.5],\n",
       "       [5.1, 3.5, 1.4, 0.2],\n",
       "       [7.7, 2.8, 6.7, 2. ],\n",
       "       [5.8, 2.7, 4.1, 1. ],\n",
       "       [5.2, 3.4, 1.4, 0.2],\n",
       "       [5. , 3.5, 1.3, 0.3],\n",
       "       [5.1, 3.8, 1.9, 0.4],\n",
       "       [5. , 2. , 3.5, 1. ],\n",
       "       [6.3, 2.7, 4.9, 1.8],\n",
       "       [4.8, 3.4, 1.9, 0.2],\n",
       "       [5. , 3. , 1.6, 0.2],\n",
       "       [5.1, 3.3, 1.7, 0.5],\n",
       "       [5.6, 2.7, 4.2, 1.3],\n",
       "       [5.1, 3.4, 1.5, 0.2],\n",
       "       [5.7, 3. , 4.2, 1.2],\n",
       "       [7.7, 3.8, 6.7, 2.2],\n",
       "       [4.6, 3.2, 1.4, 0.2],\n",
       "       [6.2, 2.9, 4.3, 1.3],\n",
       "       [5.7, 2.5, 5. , 2. ],\n",
       "       [5.5, 4.2, 1.4, 0.2],\n",
       "       [6. , 3. , 4.8, 1.8],\n",
       "       [5.8, 2.7, 5.1, 1.9],\n",
       "       [6. , 2.2, 4. , 1. ],\n",
       "       [5.4, 3. , 4.5, 1.5],\n",
       "       [6.2, 3.4, 5.4, 2.3],\n",
       "       [5.5, 2.3, 4. , 1.3],\n",
       "       [5.4, 3.9, 1.7, 0.4],\n",
       "       [5. , 2.3, 3.3, 1. ],\n",
       "       [6.4, 2.7, 5.3, 1.9],\n",
       "       [5. , 3.3, 1.4, 0.2],\n",
       "       [5. , 3.2, 1.2, 0.2],\n",
       "       [5.5, 2.4, 3.8, 1.1],\n",
       "       [6.7, 3. , 5. , 1.7],\n",
       "       [4.9, 3.1, 1.5, 0.1],\n",
       "       [5.8, 2.8, 5.1, 2.4],\n",
       "       [5. , 3.4, 1.5, 0.2],\n",
       "       [5. , 3.5, 1.6, 0.6],\n",
       "       [5.9, 3.2, 4.8, 1.8],\n",
       "       [5.1, 2.5, 3. , 1.1],\n",
       "       [6.9, 3.2, 5.7, 2.3],\n",
       "       [6. , 2.7, 5.1, 1.6],\n",
       "       [6.1, 2.6, 5.6, 1.4],\n",
       "       [7.7, 3. , 6.1, 2.3],\n",
       "       [5.5, 2.5, 4. , 1.3],\n",
       "       [4.4, 2.9, 1.4, 0.2],\n",
       "       [4.3, 3. , 1.1, 0.1],\n",
       "       [6. , 2.2, 5. , 1.5],\n",
       "       [7.2, 3.2, 6. , 1.8],\n",
       "       [4.6, 3.1, 1.5, 0.2],\n",
       "       [5.1, 3.5, 1.4, 0.3],\n",
       "       [4.4, 3. , 1.3, 0.2],\n",
       "       [6.3, 2.5, 4.9, 1.5],\n",
       "       [6.3, 3.4, 5.6, 2.4],\n",
       "       [4.6, 3.4, 1.4, 0.3],\n",
       "       [6.8, 3. , 5.5, 2.1],\n",
       "       [6.3, 3.3, 6. , 2.5],\n",
       "       [4.7, 3.2, 1.3, 0.2],\n",
       "       [6.1, 2.9, 4.7, 1.4],\n",
       "       [6.5, 2.8, 4.6, 1.5],\n",
       "       [6.2, 2.8, 4.8, 1.8],\n",
       "       [7. , 3.2, 4.7, 1.4],\n",
       "       [6.4, 3.2, 5.3, 2.3],\n",
       "       [5.1, 3.8, 1.6, 0.2],\n",
       "       [6.9, 3.1, 5.4, 2.1],\n",
       "       [5.9, 3. , 4.2, 1.5],\n",
       "       [6.5, 3. , 5.2, 2. ],\n",
       "       [5.7, 2.6, 3.5, 1. ],\n",
       "       [5.2, 2.7, 3.9, 1.4],\n",
       "       [6.1, 3. , 4.6, 1.4],\n",
       "       [4.5, 2.3, 1.3, 0.3],\n",
       "       [6.6, 2.9, 4.6, 1.3],\n",
       "       [5.5, 2.6, 4.4, 1.2],\n",
       "       [5.3, 3.7, 1.5, 0.2],\n",
       "       [5.6, 3. , 4.1, 1.3],\n",
       "       [7.3, 2.9, 6.3, 1.8],\n",
       "       [6.7, 3.3, 5.7, 2.1],\n",
       "       [5.1, 3.7, 1.5, 0.4],\n",
       "       [4.9, 2.4, 3.3, 1. ],\n",
       "       [6.7, 3.3, 5.7, 2.5],\n",
       "       [7.2, 3. , 5.8, 1.6],\n",
       "       [4.9, 3.1, 1.5, 0.1],\n",
       "       [6.7, 3.1, 5.6, 2.4],\n",
       "       [4.9, 3. , 1.4, 0.2],\n",
       "       [6.9, 3.1, 4.9, 1.5],\n",
       "       [7.4, 2.8, 6.1, 1.9],\n",
       "       [6.3, 2.9, 5.6, 1.8],\n",
       "       [5.7, 2.8, 4.1, 1.3],\n",
       "       [6.5, 3. , 5.5, 1.8],\n",
       "       [6.3, 2.3, 4.4, 1.3],\n",
       "       [6.4, 2.9, 4.3, 1.3],\n",
       "       [5.6, 2.8, 4.9, 2. ],\n",
       "       [5.9, 3. , 5.1, 1.8],\n",
       "       [5.4, 3.4, 1.7, 0.2],\n",
       "       [6.1, 2.8, 4. , 1.3],\n",
       "       [4.9, 2.5, 4.5, 1.7],\n",
       "       [5.8, 4. , 1.2, 0.2],\n",
       "       [5.8, 2.6, 4. , 1.2],\n",
       "       [7.1, 3. , 5.9, 2.1]])"
      ]
     },
     "execution_count": 17,
     "metadata": {},
     "output_type": "execute_result"
    }
   ],
   "source": [
    "x_train"
   ]
  },
  {
   "cell_type": "code",
   "execution_count": 18,
   "id": "0982ea88-b067-4927-9474-8b8a9127711e",
   "metadata": {},
   "outputs": [
    {
     "data": {
      "text/plain": [
       "array([1, 0, 2, 1, 1, 0, 1, 2, 1, 1], dtype=int64)"
      ]
     },
     "execution_count": 18,
     "metadata": {},
     "output_type": "execute_result"
    }
   ],
   "source": [
    "y_test[:10]"
   ]
  },
  {
   "cell_type": "code",
   "execution_count": 19,
   "id": "707d7fef-11c6-4c02-9730-a6f6f845ef70",
   "metadata": {},
   "outputs": [
    {
     "data": {
      "text/plain": [
       "(30, 4)"
      ]
     },
     "execution_count": 19,
     "metadata": {},
     "output_type": "execute_result"
    }
   ],
   "source": [
    "x_test.shape"
   ]
  },
  {
   "cell_type": "code",
   "execution_count": 20,
   "id": "66c203a6-9913-4709-95bd-03a1c21ab30a",
   "metadata": {},
   "outputs": [
    {
     "data": {
      "text/plain": [
       "(30,)"
      ]
     },
     "execution_count": 20,
     "metadata": {},
     "output_type": "execute_result"
    }
   ],
   "source": [
    "y_test.shape"
   ]
  },
  {
   "cell_type": "code",
   "execution_count": 45,
   "id": "454c65eb-2421-4550-aac5-c2a708f94dc0",
   "metadata": {},
   "outputs": [],
   "source": [
    "from sklearn.metrics import accuracy_score\n",
    "from sklearn.linear_model import LogisticRegression\n",
    "\n",
    "class MultinomijalnaLogistickaRegresija():\n",
    "    def __init__(self, num_classes, learning_rate=0.01):\n",
    "        self.losses = []\n",
    "        self.train_accuracies = []\n",
    "        self.num_classes = num_classes\n",
    "        self.learning_rate = learning_rate\n",
    "        \n",
    "\n",
    "    def train(self, x, y, epochs=100):\n",
    "        # broj podataka, broj features-a\n",
    "        self.m, self.n = x.shape\n",
    "        # inicijalizacija tezina\n",
    "        self.W = np.zeros((self.n, self.num_classes))\n",
    "        self.b = np.zeros(self.num_classes)\n",
    "\n",
    "        for i in range(epochs):\n",
    "            probabilities, y_pred = self.predict(x)\n",
    "\n",
    "            loss = self.compute_loss(y, probabilities)\n",
    "            dW, db = self.compute_gradients(x, y, probabilities)\n",
    "            self.update_model_parametars(dW, db)\n",
    "\n",
    "            self.train_accuracies.append(accuracy_score(y, y_pred))\n",
    "            self.losses.append(loss.mean())\n",
    "                \n",
    "            print(f\"Train Loss: {self.losses[-1]} | Train Accuracy: {self.train_accuracies}\")\n",
    "\n",
    "    def compute_loss(self, y_true, probabilities):\n",
    "        # cross entropy\n",
    "        CELoss = -np.mean(np.log([proba[i] for proba, i in zip(probabilities, y_true)])) # - jer minimiziramo\n",
    "        return CELoss\n",
    "\n",
    "    def compute_gradients(self, x, y_true, probabilities):\n",
    "        # derivate of cross entropy\n",
    "        probabilities[np.arange(self.m), y_true] -= 1\n",
    "        dW = x.T.dot(probabilities) / self.m # gradient of loss w.r.t weights\n",
    "        db = np.sum(probabilities, axis=0) / self.m # gradient of loss w.r.t bias\n",
    "        \n",
    "        return dW, db\n",
    "\n",
    "    def update_model_parametars(self, dW, db):\n",
    "        self.W -= self.learning_rate * dW\n",
    "        self.b -= self.learning_rate * db\n",
    "\n",
    "    def predict(self, x):\n",
    "        x_dot_weights = x.dot(self.W) + self.b\n",
    "        probabilities = np.array([self.softmax(proba) for proba in x_dot_weights])\n",
    "        predictions = np.array([np.argmax(i) for i in probabilities])\n",
    "        return probabilities, predictions\n",
    "\n",
    "    def softmax(self, x):\n",
    "        z = np.exp(x)\n",
    "        z /= np.sum(z)\n",
    "        return z"
   ]
  },
  {
   "cell_type": "code",
   "execution_count": 46,
   "id": "b497ac7e-3bc5-4033-bb21-503c06187c18",
   "metadata": {},
   "outputs": [
    {
     "name": "stdout",
     "output_type": "stream",
     "text": [
      "Train Loss: 1.0986122886681096 | Train Accuracy: [0.3333333333333333]\n",
      "Train Loss: 1.0404577198548268 | Train Accuracy: [0.3333333333333333, 0.325]\n",
      "Train Loss: 0.9972926746845953 | Train Accuracy: [0.3333333333333333, 0.325, 0.5416666666666666]\n",
      "Train Loss: 0.9593000112978838 | Train Accuracy: [0.3333333333333333, 0.325, 0.5416666666666666, 0.6583333333333333]\n",
      "Train Loss: 0.9248699530476806 | Train Accuracy: [0.3333333333333333, 0.325, 0.5416666666666666, 0.6583333333333333, 0.6583333333333333]\n",
      "Train Loss: 0.8936114198182369 | Train Accuracy: [0.3333333333333333, 0.325, 0.5416666666666666, 0.6583333333333333, 0.6583333333333333, 0.6583333333333333]\n",
      "Train Loss: 0.8651983605879603 | Train Accuracy: [0.3333333333333333, 0.325, 0.5416666666666666, 0.6583333333333333, 0.6583333333333333, 0.6583333333333333, 0.6583333333333333]\n",
      "Train Loss: 0.8393379023981173 | Train Accuracy: [0.3333333333333333, 0.325, 0.5416666666666666, 0.6583333333333333, 0.6583333333333333, 0.6583333333333333, 0.6583333333333333, 0.6583333333333333]\n",
      "Train Loss: 0.8157593319678128 | Train Accuracy: [0.3333333333333333, 0.325, 0.5416666666666666, 0.6583333333333333, 0.6583333333333333, 0.6583333333333333, 0.6583333333333333, 0.6583333333333333, 0.6583333333333333]\n",
      "Train Loss: 0.794218274454724 | Train Accuracy: [0.3333333333333333, 0.325, 0.5416666666666666, 0.6583333333333333, 0.6583333333333333, 0.6583333333333333, 0.6583333333333333, 0.6583333333333333, 0.6583333333333333, 0.6583333333333333]\n",
      "Train Loss: 0.774493905214465 | Train Accuracy: [0.3333333333333333, 0.325, 0.5416666666666666, 0.6583333333333333, 0.6583333333333333, 0.6583333333333333, 0.6583333333333333, 0.6583333333333333, 0.6583333333333333, 0.6583333333333333, 0.675]\n",
      "Train Loss: 0.7563893615057232 | Train Accuracy: [0.3333333333333333, 0.325, 0.5416666666666666, 0.6583333333333333, 0.6583333333333333, 0.6583333333333333, 0.6583333333333333, 0.6583333333333333, 0.6583333333333333, 0.6583333333333333, 0.675, 0.675]\n",
      "Train Loss: 0.739729455890267 | Train Accuracy: [0.3333333333333333, 0.325, 0.5416666666666666, 0.6583333333333333, 0.6583333333333333, 0.6583333333333333, 0.6583333333333333, 0.6583333333333333, 0.6583333333333333, 0.6583333333333333, 0.675, 0.675, 0.675]\n",
      "Train Loss: 0.7243592969644997 | Train Accuracy: [0.3333333333333333, 0.325, 0.5416666666666666, 0.6583333333333333, 0.6583333333333333, 0.6583333333333333, 0.6583333333333333, 0.6583333333333333, 0.6583333333333333, 0.6583333333333333, 0.675, 0.675, 0.675, 0.675]\n",
      "Train Loss: 0.7101420789243075 | Train Accuracy: [0.3333333333333333, 0.325, 0.5416666666666666, 0.6583333333333333, 0.6583333333333333, 0.6583333333333333, 0.6583333333333333, 0.6583333333333333, 0.6583333333333333, 0.6583333333333333, 0.675, 0.675, 0.675, 0.675, 0.6833333333333333]\n",
      "Train Loss: 0.6969572721202509 | Train Accuracy: [0.3333333333333333, 0.325, 0.5416666666666666, 0.6583333333333333, 0.6583333333333333, 0.6583333333333333, 0.6583333333333333, 0.6583333333333333, 0.6583333333333333, 0.6583333333333333, 0.675, 0.675, 0.675, 0.675, 0.6833333333333333, 0.6916666666666667]\n",
      "Train Loss: 0.6846986770893699 | Train Accuracy: [0.3333333333333333, 0.325, 0.5416666666666666, 0.6583333333333333, 0.6583333333333333, 0.6583333333333333, 0.6583333333333333, 0.6583333333333333, 0.6583333333333333, 0.6583333333333333, 0.675, 0.675, 0.675, 0.675, 0.6833333333333333, 0.6916666666666667, 0.7166666666666667]\n",
      "Train Loss: 0.6732727494630875 | Train Accuracy: [0.3333333333333333, 0.325, 0.5416666666666666, 0.6583333333333333, 0.6583333333333333, 0.6583333333333333, 0.6583333333333333, 0.6583333333333333, 0.6583333333333333, 0.6583333333333333, 0.675, 0.675, 0.675, 0.675, 0.6833333333333333, 0.6916666666666667, 0.7166666666666667, 0.725]\n",
      "Train Loss: 0.6625970123649834 | Train Accuracy: [0.3333333333333333, 0.325, 0.5416666666666666, 0.6583333333333333, 0.6583333333333333, 0.6583333333333333, 0.6583333333333333, 0.6583333333333333, 0.6583333333333333, 0.6583333333333333, 0.675, 0.675, 0.675, 0.675, 0.6833333333333333, 0.6916666666666667, 0.7166666666666667, 0.725, 0.7583333333333333]\n",
      "Train Loss: 0.6525986808638533 | Train Accuracy: [0.3333333333333333, 0.325, 0.5416666666666666, 0.6583333333333333, 0.6583333333333333, 0.6583333333333333, 0.6583333333333333, 0.6583333333333333, 0.6583333333333333, 0.6583333333333333, 0.675, 0.675, 0.675, 0.675, 0.6833333333333333, 0.6916666666666667, 0.7166666666666667, 0.725, 0.7583333333333333, 0.7583333333333333]\n",
      "Train Loss: 0.6432134238333691 | Train Accuracy: [0.3333333333333333, 0.325, 0.5416666666666666, 0.6583333333333333, 0.6583333333333333, 0.6583333333333333, 0.6583333333333333, 0.6583333333333333, 0.6583333333333333, 0.6583333333333333, 0.675, 0.675, 0.675, 0.675, 0.6833333333333333, 0.6916666666666667, 0.7166666666666667, 0.725, 0.7583333333333333, 0.7583333333333333, 0.7666666666666667]\n",
      "Train Loss: 0.6343842926287181 | Train Accuracy: [0.3333333333333333, 0.325, 0.5416666666666666, 0.6583333333333333, 0.6583333333333333, 0.6583333333333333, 0.6583333333333333, 0.6583333333333333, 0.6583333333333333, 0.6583333333333333, 0.675, 0.675, 0.675, 0.675, 0.6833333333333333, 0.6916666666666667, 0.7166666666666667, 0.725, 0.7583333333333333, 0.7583333333333333, 0.7666666666666667, 0.7833333333333333]\n",
      "Train Loss: 0.6260607787094024 | Train Accuracy: [0.3333333333333333, 0.325, 0.5416666666666666, 0.6583333333333333, 0.6583333333333333, 0.6583333333333333, 0.6583333333333333, 0.6583333333333333, 0.6583333333333333, 0.6583333333333333, 0.675, 0.675, 0.675, 0.675, 0.6833333333333333, 0.6916666666666667, 0.7166666666666667, 0.725, 0.7583333333333333, 0.7583333333333333, 0.7666666666666667, 0.7833333333333333, 0.7916666666666666]\n",
      "Train Loss: 0.618197999446429 | Train Accuracy: [0.3333333333333333, 0.325, 0.5416666666666666, 0.6583333333333333, 0.6583333333333333, 0.6583333333333333, 0.6583333333333333, 0.6583333333333333, 0.6583333333333333, 0.6583333333333333, 0.675, 0.675, 0.675, 0.675, 0.6833333333333333, 0.6916666666666667, 0.7166666666666667, 0.725, 0.7583333333333333, 0.7583333333333333, 0.7666666666666667, 0.7833333333333333, 0.7916666666666666, 0.8]\n",
      "Train Loss: 0.6107559891164882 | Train Accuracy: [0.3333333333333333, 0.325, 0.5416666666666666, 0.6583333333333333, 0.6583333333333333, 0.6583333333333333, 0.6583333333333333, 0.6583333333333333, 0.6583333333333333, 0.6583333333333333, 0.675, 0.675, 0.675, 0.675, 0.6833333333333333, 0.6916666666666667, 0.7166666666666667, 0.725, 0.7583333333333333, 0.7583333333333333, 0.7666666666666667, 0.7833333333333333, 0.7916666666666666, 0.8, 0.8]\n",
      "Train Loss: 0.6036990864155959 | Train Accuracy: [0.3333333333333333, 0.325, 0.5416666666666666, 0.6583333333333333, 0.6583333333333333, 0.6583333333333333, 0.6583333333333333, 0.6583333333333333, 0.6583333333333333, 0.6583333333333333, 0.675, 0.675, 0.675, 0.675, 0.6833333333333333, 0.6916666666666667, 0.7166666666666667, 0.725, 0.7583333333333333, 0.7583333333333333, 0.7666666666666667, 0.7833333333333333, 0.7916666666666666, 0.8, 0.8, 0.8083333333333333]\n",
      "Train Loss: 0.5969954030341393 | Train Accuracy: [0.3333333333333333, 0.325, 0.5416666666666666, 0.6583333333333333, 0.6583333333333333, 0.6583333333333333, 0.6583333333333333, 0.6583333333333333, 0.6583333333333333, 0.6583333333333333, 0.675, 0.675, 0.675, 0.675, 0.6833333333333333, 0.6916666666666667, 0.7166666666666667, 0.725, 0.7583333333333333, 0.7583333333333333, 0.7666666666666667, 0.7833333333333333, 0.7916666666666666, 0.8, 0.8, 0.8083333333333333, 0.8166666666666667]\n",
      "Train Loss: 0.590616364007661 | Train Accuracy: [0.3333333333333333, 0.325, 0.5416666666666666, 0.6583333333333333, 0.6583333333333333, 0.6583333333333333, 0.6583333333333333, 0.6583333333333333, 0.6583333333333333, 0.6583333333333333, 0.675, 0.675, 0.675, 0.675, 0.6833333333333333, 0.6916666666666667, 0.7166666666666667, 0.725, 0.7583333333333333, 0.7583333333333333, 0.7666666666666667, 0.7833333333333333, 0.7916666666666666, 0.8, 0.8, 0.8083333333333333, 0.8166666666666667, 0.825]\n",
      "Train Loss: 0.584536308976183 | Train Accuracy: [0.3333333333333333, 0.325, 0.5416666666666666, 0.6583333333333333, 0.6583333333333333, 0.6583333333333333, 0.6583333333333333, 0.6583333333333333, 0.6583333333333333, 0.6583333333333333, 0.675, 0.675, 0.675, 0.675, 0.6833333333333333, 0.6916666666666667, 0.7166666666666667, 0.725, 0.7583333333333333, 0.7583333333333333, 0.7666666666666667, 0.7833333333333333, 0.7916666666666666, 0.8, 0.8, 0.8083333333333333, 0.8166666666666667, 0.825, 0.8416666666666667]\n",
      "Train Loss: 0.5787321465096059 | Train Accuracy: [0.3333333333333333, 0.325, 0.5416666666666666, 0.6583333333333333, 0.6583333333333333, 0.6583333333333333, 0.6583333333333333, 0.6583333333333333, 0.6583333333333333, 0.6583333333333333, 0.675, 0.675, 0.675, 0.675, 0.6833333333333333, 0.6916666666666667, 0.7166666666666667, 0.725, 0.7583333333333333, 0.7583333333333333, 0.7666666666666667, 0.7833333333333333, 0.7916666666666666, 0.8, 0.8, 0.8083333333333333, 0.8166666666666667, 0.825, 0.8416666666666667, 0.85]\n",
      "Train Loss: 0.5731830537236086 | Train Accuracy: [0.3333333333333333, 0.325, 0.5416666666666666, 0.6583333333333333, 0.6583333333333333, 0.6583333333333333, 0.6583333333333333, 0.6583333333333333, 0.6583333333333333, 0.6583333333333333, 0.675, 0.675, 0.675, 0.675, 0.6833333333333333, 0.6916666666666667, 0.7166666666666667, 0.725, 0.7583333333333333, 0.7583333333333333, 0.7666666666666667, 0.7833333333333333, 0.7916666666666666, 0.8, 0.8, 0.8083333333333333, 0.8166666666666667, 0.825, 0.8416666666666667, 0.85, 0.8583333333333333]\n",
      "Train Loss: 0.567870215089268 | Train Accuracy: [0.3333333333333333, 0.325, 0.5416666666666666, 0.6583333333333333, 0.6583333333333333, 0.6583333333333333, 0.6583333333333333, 0.6583333333333333, 0.6583333333333333, 0.6583333333333333, 0.675, 0.675, 0.675, 0.675, 0.6833333333333333, 0.6916666666666667, 0.7166666666666667, 0.725, 0.7583333333333333, 0.7583333333333333, 0.7666666666666667, 0.7833333333333333, 0.7916666666666666, 0.8, 0.8, 0.8083333333333333, 0.8166666666666667, 0.825, 0.8416666666666667, 0.85, 0.8583333333333333, 0.8666666666666667]\n",
      "Train Loss: 0.5627765948320278 | Train Accuracy: [0.3333333333333333, 0.325, 0.5416666666666666, 0.6583333333333333, 0.6583333333333333, 0.6583333333333333, 0.6583333333333333, 0.6583333333333333, 0.6583333333333333, 0.6583333333333333, 0.675, 0.675, 0.675, 0.675, 0.6833333333333333, 0.6916666666666667, 0.7166666666666667, 0.725, 0.7583333333333333, 0.7583333333333333, 0.7666666666666667, 0.7833333333333333, 0.7916666666666666, 0.8, 0.8, 0.8083333333333333, 0.8166666666666667, 0.825, 0.8416666666666667, 0.85, 0.8583333333333333, 0.8666666666666667, 0.875]\n",
      "Train Loss: 0.5578867383435674 | Train Accuracy: [0.3333333333333333, 0.325, 0.5416666666666666, 0.6583333333333333, 0.6583333333333333, 0.6583333333333333, 0.6583333333333333, 0.6583333333333333, 0.6583333333333333, 0.6583333333333333, 0.675, 0.675, 0.675, 0.675, 0.6833333333333333, 0.6916666666666667, 0.7166666666666667, 0.725, 0.7583333333333333, 0.7583333333333333, 0.7666666666666667, 0.7833333333333333, 0.7916666666666666, 0.8, 0.8, 0.8083333333333333, 0.8166666666666667, 0.825, 0.8416666666666667, 0.85, 0.8583333333333333, 0.8666666666666667, 0.875, 0.875]\n",
      "Train Loss: 0.5531865985493781 | Train Accuracy: [0.3333333333333333, 0.325, 0.5416666666666666, 0.6583333333333333, 0.6583333333333333, 0.6583333333333333, 0.6583333333333333, 0.6583333333333333, 0.6583333333333333, 0.6583333333333333, 0.675, 0.675, 0.675, 0.675, 0.6833333333333333, 0.6916666666666667, 0.7166666666666667, 0.725, 0.7583333333333333, 0.7583333333333333, 0.7666666666666667, 0.7833333333333333, 0.7916666666666666, 0.8, 0.8, 0.8083333333333333, 0.8166666666666667, 0.825, 0.8416666666666667, 0.85, 0.8583333333333333, 0.8666666666666667, 0.875, 0.875, 0.8833333333333333]\n",
      "Train Loss: 0.5486633838473558 | Train Accuracy: [0.3333333333333333, 0.325, 0.5416666666666666, 0.6583333333333333, 0.6583333333333333, 0.6583333333333333, 0.6583333333333333, 0.6583333333333333, 0.6583333333333333, 0.6583333333333333, 0.675, 0.675, 0.675, 0.675, 0.6833333333333333, 0.6916666666666667, 0.7166666666666667, 0.725, 0.7583333333333333, 0.7583333333333333, 0.7666666666666667, 0.7833333333333333, 0.7916666666666666, 0.8, 0.8, 0.8083333333333333, 0.8166666666666667, 0.825, 0.8416666666666667, 0.85, 0.8583333333333333, 0.8666666666666667, 0.875, 0.875, 0.8833333333333333, 0.8833333333333333]\n",
      "Train Loss: 0.5443054246679395 | Train Accuracy: [0.3333333333333333, 0.325, 0.5416666666666666, 0.6583333333333333, 0.6583333333333333, 0.6583333333333333, 0.6583333333333333, 0.6583333333333333, 0.6583333333333333, 0.6583333333333333, 0.675, 0.675, 0.675, 0.675, 0.6833333333333333, 0.6916666666666667, 0.7166666666666667, 0.725, 0.7583333333333333, 0.7583333333333333, 0.7666666666666667, 0.7833333333333333, 0.7916666666666666, 0.8, 0.8, 0.8083333333333333, 0.8166666666666667, 0.825, 0.8416666666666667, 0.85, 0.8583333333333333, 0.8666666666666667, 0.875, 0.875, 0.8833333333333333, 0.8833333333333333, 0.8833333333333333]\n",
      "Train Loss: 0.540102056164699 | Train Accuracy: [0.3333333333333333, 0.325, 0.5416666666666666, 0.6583333333333333, 0.6583333333333333, 0.6583333333333333, 0.6583333333333333, 0.6583333333333333, 0.6583333333333333, 0.6583333333333333, 0.675, 0.675, 0.675, 0.675, 0.6833333333333333, 0.6916666666666667, 0.7166666666666667, 0.725, 0.7583333333333333, 0.7583333333333333, 0.7666666666666667, 0.7833333333333333, 0.7916666666666666, 0.8, 0.8, 0.8083333333333333, 0.8166666666666667, 0.825, 0.8416666666666667, 0.85, 0.8583333333333333, 0.8666666666666667, 0.875, 0.875, 0.8833333333333333, 0.8833333333333333, 0.8833333333333333, 0.8916666666666667]\n",
      "Train Loss: 0.5360435148808237 | Train Accuracy: [0.3333333333333333, 0.325, 0.5416666666666666, 0.6583333333333333, 0.6583333333333333, 0.6583333333333333, 0.6583333333333333, 0.6583333333333333, 0.6583333333333333, 0.6583333333333333, 0.675, 0.675, 0.675, 0.675, 0.6833333333333333, 0.6916666666666667, 0.7166666666666667, 0.725, 0.7583333333333333, 0.7583333333333333, 0.7666666666666667, 0.7833333333333333, 0.7916666666666666, 0.8, 0.8, 0.8083333333333333, 0.8166666666666667, 0.825, 0.8416666666666667, 0.85, 0.8583333333333333, 0.8666666666666667, 0.875, 0.875, 0.8833333333333333, 0.8833333333333333, 0.8833333333333333, 0.8916666666666667, 0.8916666666666667]\n",
      "Train Loss: 0.532120847557264 | Train Accuracy: [0.3333333333333333, 0.325, 0.5416666666666666, 0.6583333333333333, 0.6583333333333333, 0.6583333333333333, 0.6583333333333333, 0.6583333333333333, 0.6583333333333333, 0.6583333333333333, 0.675, 0.675, 0.675, 0.675, 0.6833333333333333, 0.6916666666666667, 0.7166666666666667, 0.725, 0.7583333333333333, 0.7583333333333333, 0.7666666666666667, 0.7833333333333333, 0.7916666666666666, 0.8, 0.8, 0.8083333333333333, 0.8166666666666667, 0.825, 0.8416666666666667, 0.85, 0.8583333333333333, 0.8666666666666667, 0.875, 0.875, 0.8833333333333333, 0.8833333333333333, 0.8833333333333333, 0.8916666666666667, 0.8916666666666667, 0.8916666666666667]\n",
      "Train Loss: 0.5283258304998795 | Train Accuracy: [0.3333333333333333, 0.325, 0.5416666666666666, 0.6583333333333333, 0.6583333333333333, 0.6583333333333333, 0.6583333333333333, 0.6583333333333333, 0.6583333333333333, 0.6583333333333333, 0.675, 0.675, 0.675, 0.675, 0.6833333333333333, 0.6916666666666667, 0.7166666666666667, 0.725, 0.7583333333333333, 0.7583333333333333, 0.7666666666666667, 0.7833333333333333, 0.7916666666666666, 0.8, 0.8, 0.8083333333333333, 0.8166666666666667, 0.825, 0.8416666666666667, 0.85, 0.8583333333333333, 0.8666666666666667, 0.875, 0.875, 0.8833333333333333, 0.8833333333333333, 0.8833333333333333, 0.8916666666666667, 0.8916666666666667, 0.8916666666666667, 0.8916666666666667]\n",
      "Train Loss: 0.5246508981503569 | Train Accuracy: [0.3333333333333333, 0.325, 0.5416666666666666, 0.6583333333333333, 0.6583333333333333, 0.6583333333333333, 0.6583333333333333, 0.6583333333333333, 0.6583333333333333, 0.6583333333333333, 0.675, 0.675, 0.675, 0.675, 0.6833333333333333, 0.6916666666666667, 0.7166666666666667, 0.725, 0.7583333333333333, 0.7583333333333333, 0.7666666666666667, 0.7833333333333333, 0.7916666666666666, 0.8, 0.8, 0.8083333333333333, 0.8166666666666667, 0.825, 0.8416666666666667, 0.85, 0.8583333333333333, 0.8666666666666667, 0.875, 0.875, 0.8833333333333333, 0.8833333333333333, 0.8833333333333333, 0.8916666666666667, 0.8916666666666667, 0.8916666666666667, 0.8916666666666667, 0.8916666666666667]\n",
      "Train Loss: 0.5210890796911295 | Train Accuracy: [0.3333333333333333, 0.325, 0.5416666666666666, 0.6583333333333333, 0.6583333333333333, 0.6583333333333333, 0.6583333333333333, 0.6583333333333333, 0.6583333333333333, 0.6583333333333333, 0.675, 0.675, 0.675, 0.675, 0.6833333333333333, 0.6916666666666667, 0.7166666666666667, 0.725, 0.7583333333333333, 0.7583333333333333, 0.7666666666666667, 0.7833333333333333, 0.7916666666666666, 0.8, 0.8, 0.8083333333333333, 0.8166666666666667, 0.825, 0.8416666666666667, 0.85, 0.8583333333333333, 0.8666666666666667, 0.875, 0.875, 0.8833333333333333, 0.8833333333333333, 0.8833333333333333, 0.8916666666666667, 0.8916666666666667, 0.8916666666666667, 0.8916666666666667, 0.8916666666666667, 0.9]\n",
      "Train Loss: 0.5176339426778395 | Train Accuracy: [0.3333333333333333, 0.325, 0.5416666666666666, 0.6583333333333333, 0.6583333333333333, 0.6583333333333333, 0.6583333333333333, 0.6583333333333333, 0.6583333333333333, 0.6583333333333333, 0.675, 0.675, 0.675, 0.675, 0.6833333333333333, 0.6916666666666667, 0.7166666666666667, 0.725, 0.7583333333333333, 0.7583333333333333, 0.7666666666666667, 0.7833333333333333, 0.7916666666666666, 0.8, 0.8, 0.8083333333333333, 0.8166666666666667, 0.825, 0.8416666666666667, 0.85, 0.8583333333333333, 0.8666666666666667, 0.875, 0.875, 0.8833333333333333, 0.8833333333333333, 0.8833333333333333, 0.8916666666666667, 0.8916666666666667, 0.8916666666666667, 0.8916666666666667, 0.8916666666666667, 0.9, 0.9083333333333333]\n",
      "Train Loss: 0.514279542828988 | Train Accuracy: [0.3333333333333333, 0.325, 0.5416666666666666, 0.6583333333333333, 0.6583333333333333, 0.6583333333333333, 0.6583333333333333, 0.6583333333333333, 0.6583333333333333, 0.6583333333333333, 0.675, 0.675, 0.675, 0.675, 0.6833333333333333, 0.6916666666666667, 0.7166666666666667, 0.725, 0.7583333333333333, 0.7583333333333333, 0.7666666666666667, 0.7833333333333333, 0.7916666666666666, 0.8, 0.8, 0.8083333333333333, 0.8166666666666667, 0.825, 0.8416666666666667, 0.85, 0.8583333333333333, 0.8666666666666667, 0.875, 0.875, 0.8833333333333333, 0.8833333333333333, 0.8833333333333333, 0.8916666666666667, 0.8916666666666667, 0.8916666666666667, 0.8916666666666667, 0.8916666666666667, 0.9, 0.9083333333333333, 0.9166666666666666]\n",
      "Train Loss: 0.5110203792207727 | Train Accuracy: [0.3333333333333333, 0.325, 0.5416666666666666, 0.6583333333333333, 0.6583333333333333, 0.6583333333333333, 0.6583333333333333, 0.6583333333333333, 0.6583333333333333, 0.6583333333333333, 0.675, 0.675, 0.675, 0.675, 0.6833333333333333, 0.6916666666666667, 0.7166666666666667, 0.725, 0.7583333333333333, 0.7583333333333333, 0.7666666666666667, 0.7833333333333333, 0.7916666666666666, 0.8, 0.8, 0.8083333333333333, 0.8166666666666667, 0.825, 0.8416666666666667, 0.85, 0.8583333333333333, 0.8666666666666667, 0.875, 0.875, 0.8833333333333333, 0.8833333333333333, 0.8833333333333333, 0.8916666666666667, 0.8916666666666667, 0.8916666666666667, 0.8916666666666667, 0.8916666666666667, 0.9, 0.9083333333333333, 0.9166666666666666, 0.9166666666666666]\n",
      "Train Loss: 0.5078513542350557 | Train Accuracy: [0.3333333333333333, 0.325, 0.5416666666666666, 0.6583333333333333, 0.6583333333333333, 0.6583333333333333, 0.6583333333333333, 0.6583333333333333, 0.6583333333333333, 0.6583333333333333, 0.675, 0.675, 0.675, 0.675, 0.6833333333333333, 0.6916666666666667, 0.7166666666666667, 0.725, 0.7583333333333333, 0.7583333333333333, 0.7666666666666667, 0.7833333333333333, 0.7916666666666666, 0.8, 0.8, 0.8083333333333333, 0.8166666666666667, 0.825, 0.8416666666666667, 0.85, 0.8583333333333333, 0.8666666666666667, 0.875, 0.875, 0.8833333333333333, 0.8833333333333333, 0.8833333333333333, 0.8916666666666667, 0.8916666666666667, 0.8916666666666667, 0.8916666666666667, 0.8916666666666667, 0.9, 0.9083333333333333, 0.9166666666666666, 0.9166666666666666, 0.9166666666666666]\n",
      "Train Loss: 0.5047677376948646 | Train Accuracy: [0.3333333333333333, 0.325, 0.5416666666666666, 0.6583333333333333, 0.6583333333333333, 0.6583333333333333, 0.6583333333333333, 0.6583333333333333, 0.6583333333333333, 0.6583333333333333, 0.675, 0.675, 0.675, 0.675, 0.6833333333333333, 0.6916666666666667, 0.7166666666666667, 0.725, 0.7583333333333333, 0.7583333333333333, 0.7666666666666667, 0.7833333333333333, 0.7916666666666666, 0.8, 0.8, 0.8083333333333333, 0.8166666666666667, 0.825, 0.8416666666666667, 0.85, 0.8583333333333333, 0.8666666666666667, 0.875, 0.875, 0.8833333333333333, 0.8833333333333333, 0.8833333333333333, 0.8916666666666667, 0.8916666666666667, 0.8916666666666667, 0.8916666666666667, 0.8916666666666667, 0.9, 0.9083333333333333, 0.9166666666666666, 0.9166666666666666, 0.9166666666666666, 0.925]\n",
      "Train Loss: 0.5017651346954801 | Train Accuracy: [0.3333333333333333, 0.325, 0.5416666666666666, 0.6583333333333333, 0.6583333333333333, 0.6583333333333333, 0.6583333333333333, 0.6583333333333333, 0.6583333333333333, 0.6583333333333333, 0.675, 0.675, 0.675, 0.675, 0.6833333333333333, 0.6916666666666667, 0.7166666666666667, 0.725, 0.7583333333333333, 0.7583333333333333, 0.7666666666666667, 0.7833333333333333, 0.7916666666666666, 0.8, 0.8, 0.8083333333333333, 0.8166666666666667, 0.825, 0.8416666666666667, 0.85, 0.8583333333333333, 0.8666666666666667, 0.875, 0.875, 0.8833333333333333, 0.8833333333333333, 0.8833333333333333, 0.8916666666666667, 0.8916666666666667, 0.8916666666666667, 0.8916666666666667, 0.8916666666666667, 0.9, 0.9083333333333333, 0.9166666666666666, 0.9166666666666666, 0.9166666666666666, 0.925, 0.925]\n",
      "Train Loss: 0.49883945670278784 | Train Accuracy: [0.3333333333333333, 0.325, 0.5416666666666666, 0.6583333333333333, 0.6583333333333333, 0.6583333333333333, 0.6583333333333333, 0.6583333333333333, 0.6583333333333333, 0.6583333333333333, 0.675, 0.675, 0.675, 0.675, 0.6833333333333333, 0.6916666666666667, 0.7166666666666667, 0.725, 0.7583333333333333, 0.7583333333333333, 0.7666666666666667, 0.7833333333333333, 0.7916666666666666, 0.8, 0.8, 0.8083333333333333, 0.8166666666666667, 0.825, 0.8416666666666667, 0.85, 0.8583333333333333, 0.8666666666666667, 0.875, 0.875, 0.8833333333333333, 0.8833333333333333, 0.8833333333333333, 0.8916666666666667, 0.8916666666666667, 0.8916666666666667, 0.8916666666666667, 0.8916666666666667, 0.9, 0.9083333333333333, 0.9166666666666666, 0.9166666666666666, 0.9166666666666666, 0.925, 0.925, 0.925]\n",
      "Train Loss: 0.49598689554512865 | Train Accuracy: [0.3333333333333333, 0.325, 0.5416666666666666, 0.6583333333333333, 0.6583333333333333, 0.6583333333333333, 0.6583333333333333, 0.6583333333333333, 0.6583333333333333, 0.6583333333333333, 0.675, 0.675, 0.675, 0.675, 0.6833333333333333, 0.6916666666666667, 0.7166666666666667, 0.725, 0.7583333333333333, 0.7583333333333333, 0.7666666666666667, 0.7833333333333333, 0.7916666666666666, 0.8, 0.8, 0.8083333333333333, 0.8166666666666667, 0.825, 0.8416666666666667, 0.85, 0.8583333333333333, 0.8666666666666667, 0.875, 0.875, 0.8833333333333333, 0.8833333333333333, 0.8833333333333333, 0.8916666666666667, 0.8916666666666667, 0.8916666666666667, 0.8916666666666667, 0.8916666666666667, 0.9, 0.9083333333333333, 0.9166666666666666, 0.9166666666666666, 0.9166666666666666, 0.925, 0.925, 0.925, 0.925]\n",
      "Train Loss: 0.49320389997203784 | Train Accuracy: [0.3333333333333333, 0.325, 0.5416666666666666, 0.6583333333333333, 0.6583333333333333, 0.6583333333333333, 0.6583333333333333, 0.6583333333333333, 0.6583333333333333, 0.6583333333333333, 0.675, 0.675, 0.675, 0.675, 0.6833333333333333, 0.6916666666666667, 0.7166666666666667, 0.725, 0.7583333333333333, 0.7583333333333333, 0.7666666666666667, 0.7833333333333333, 0.7916666666666666, 0.8, 0.8, 0.8083333333333333, 0.8166666666666667, 0.825, 0.8416666666666667, 0.85, 0.8583333333333333, 0.8666666666666667, 0.875, 0.875, 0.8833333333333333, 0.8833333333333333, 0.8833333333333333, 0.8916666666666667, 0.8916666666666667, 0.8916666666666667, 0.8916666666666667, 0.8916666666666667, 0.9, 0.9083333333333333, 0.9166666666666666, 0.9166666666666666, 0.9166666666666666, 0.925, 0.925, 0.925, 0.925, 0.925]\n",
      "Train Loss: 0.4904871544939101 | Train Accuracy: [0.3333333333333333, 0.325, 0.5416666666666666, 0.6583333333333333, 0.6583333333333333, 0.6583333333333333, 0.6583333333333333, 0.6583333333333333, 0.6583333333333333, 0.6583333333333333, 0.675, 0.675, 0.675, 0.675, 0.6833333333333333, 0.6916666666666667, 0.7166666666666667, 0.725, 0.7583333333333333, 0.7583333333333333, 0.7666666666666667, 0.7833333333333333, 0.7916666666666666, 0.8, 0.8, 0.8083333333333333, 0.8166666666666667, 0.825, 0.8416666666666667, 0.85, 0.8583333333333333, 0.8666666666666667, 0.875, 0.875, 0.8833333333333333, 0.8833333333333333, 0.8833333333333333, 0.8916666666666667, 0.8916666666666667, 0.8916666666666667, 0.8916666666666667, 0.8916666666666667, 0.9, 0.9083333333333333, 0.9166666666666666, 0.9166666666666666, 0.9166666666666666, 0.925, 0.925, 0.925, 0.925, 0.925, 0.925]\n",
      "Train Loss: 0.4878335602518301 | Train Accuracy: [0.3333333333333333, 0.325, 0.5416666666666666, 0.6583333333333333, 0.6583333333333333, 0.6583333333333333, 0.6583333333333333, 0.6583333333333333, 0.6583333333333333, 0.6583333333333333, 0.675, 0.675, 0.675, 0.675, 0.6833333333333333, 0.6916666666666667, 0.7166666666666667, 0.725, 0.7583333333333333, 0.7583333333333333, 0.7666666666666667, 0.7833333333333333, 0.7916666666666666, 0.8, 0.8, 0.8083333333333333, 0.8166666666666667, 0.825, 0.8416666666666667, 0.85, 0.8583333333333333, 0.8666666666666667, 0.875, 0.875, 0.8833333333333333, 0.8833333333333333, 0.8833333333333333, 0.8916666666666667, 0.8916666666666667, 0.8916666666666667, 0.8916666666666667, 0.8916666666666667, 0.9, 0.9083333333333333, 0.9166666666666666, 0.9166666666666666, 0.9166666666666666, 0.925, 0.925, 0.925, 0.925, 0.925, 0.925, 0.925]\n",
      "Train Loss: 0.4852402176972804 | Train Accuracy: [0.3333333333333333, 0.325, 0.5416666666666666, 0.6583333333333333, 0.6583333333333333, 0.6583333333333333, 0.6583333333333333, 0.6583333333333333, 0.6583333333333333, 0.6583333333333333, 0.675, 0.675, 0.675, 0.675, 0.6833333333333333, 0.6916666666666667, 0.7166666666666667, 0.725, 0.7583333333333333, 0.7583333333333333, 0.7666666666666667, 0.7833333333333333, 0.7916666666666666, 0.8, 0.8, 0.8083333333333333, 0.8166666666666667, 0.825, 0.8416666666666667, 0.85, 0.8583333333333333, 0.8666666666666667, 0.875, 0.875, 0.8833333333333333, 0.8833333333333333, 0.8833333333333333, 0.8916666666666667, 0.8916666666666667, 0.8916666666666667, 0.8916666666666667, 0.8916666666666667, 0.9, 0.9083333333333333, 0.9166666666666666, 0.9166666666666666, 0.9166666666666666, 0.925, 0.925, 0.925, 0.925, 0.925, 0.925, 0.925, 0.925]\n",
      "Train Loss: 0.48270441088789795 | Train Accuracy: [0.3333333333333333, 0.325, 0.5416666666666666, 0.6583333333333333, 0.6583333333333333, 0.6583333333333333, 0.6583333333333333, 0.6583333333333333, 0.6583333333333333, 0.6583333333333333, 0.675, 0.675, 0.675, 0.675, 0.6833333333333333, 0.6916666666666667, 0.7166666666666667, 0.725, 0.7583333333333333, 0.7583333333333333, 0.7666666666666667, 0.7833333333333333, 0.7916666666666666, 0.8, 0.8, 0.8083333333333333, 0.8166666666666667, 0.825, 0.8416666666666667, 0.85, 0.8583333333333333, 0.8666666666666667, 0.875, 0.875, 0.8833333333333333, 0.8833333333333333, 0.8833333333333333, 0.8916666666666667, 0.8916666666666667, 0.8916666666666667, 0.8916666666666667, 0.8916666666666667, 0.9, 0.9083333333333333, 0.9166666666666666, 0.9166666666666666, 0.9166666666666666, 0.925, 0.925, 0.925, 0.925, 0.925, 0.925, 0.925, 0.925, 0.9333333333333333]\n",
      "Train Loss: 0.48022359322845143 | Train Accuracy: [0.3333333333333333, 0.325, 0.5416666666666666, 0.6583333333333333, 0.6583333333333333, 0.6583333333333333, 0.6583333333333333, 0.6583333333333333, 0.6583333333333333, 0.6583333333333333, 0.675, 0.675, 0.675, 0.675, 0.6833333333333333, 0.6916666666666667, 0.7166666666666667, 0.725, 0.7583333333333333, 0.7583333333333333, 0.7666666666666667, 0.7833333333333333, 0.7916666666666666, 0.8, 0.8, 0.8083333333333333, 0.8166666666666667, 0.825, 0.8416666666666667, 0.85, 0.8583333333333333, 0.8666666666666667, 0.875, 0.875, 0.8833333333333333, 0.8833333333333333, 0.8833333333333333, 0.8916666666666667, 0.8916666666666667, 0.8916666666666667, 0.8916666666666667, 0.8916666666666667, 0.9, 0.9083333333333333, 0.9166666666666666, 0.9166666666666666, 0.9166666666666666, 0.925, 0.925, 0.925, 0.925, 0.925, 0.925, 0.925, 0.925, 0.9333333333333333, 0.9333333333333333]\n",
      "Train Loss: 0.4777953745062252 | Train Accuracy: [0.3333333333333333, 0.325, 0.5416666666666666, 0.6583333333333333, 0.6583333333333333, 0.6583333333333333, 0.6583333333333333, 0.6583333333333333, 0.6583333333333333, 0.6583333333333333, 0.675, 0.675, 0.675, 0.675, 0.6833333333333333, 0.6916666666666667, 0.7166666666666667, 0.725, 0.7583333333333333, 0.7583333333333333, 0.7666666666666667, 0.7833333333333333, 0.7916666666666666, 0.8, 0.8, 0.8083333333333333, 0.8166666666666667, 0.825, 0.8416666666666667, 0.85, 0.8583333333333333, 0.8666666666666667, 0.875, 0.875, 0.8833333333333333, 0.8833333333333333, 0.8833333333333333, 0.8916666666666667, 0.8916666666666667, 0.8916666666666667, 0.8916666666666667, 0.8916666666666667, 0.9, 0.9083333333333333, 0.9166666666666666, 0.9166666666666666, 0.9166666666666666, 0.925, 0.925, 0.925, 0.925, 0.925, 0.925, 0.925, 0.925, 0.9333333333333333, 0.9333333333333333, 0.9333333333333333]\n",
      "Train Loss: 0.47541750908747343 | Train Accuracy: [0.3333333333333333, 0.325, 0.5416666666666666, 0.6583333333333333, 0.6583333333333333, 0.6583333333333333, 0.6583333333333333, 0.6583333333333333, 0.6583333333333333, 0.6583333333333333, 0.675, 0.675, 0.675, 0.675, 0.6833333333333333, 0.6916666666666667, 0.7166666666666667, 0.725, 0.7583333333333333, 0.7583333333333333, 0.7666666666666667, 0.7833333333333333, 0.7916666666666666, 0.8, 0.8, 0.8083333333333333, 0.8166666666666667, 0.825, 0.8416666666666667, 0.85, 0.8583333333333333, 0.8666666666666667, 0.875, 0.875, 0.8833333333333333, 0.8833333333333333, 0.8833333333333333, 0.8916666666666667, 0.8916666666666667, 0.8916666666666667, 0.8916666666666667, 0.8916666666666667, 0.9, 0.9083333333333333, 0.9166666666666666, 0.9166666666666666, 0.9166666666666666, 0.925, 0.925, 0.925, 0.925, 0.925, 0.925, 0.925, 0.925, 0.9333333333333333, 0.9333333333333333, 0.9333333333333333, 0.9333333333333333]\n",
      "Train Loss: 0.47308788515685457 | Train Accuracy: [0.3333333333333333, 0.325, 0.5416666666666666, 0.6583333333333333, 0.6583333333333333, 0.6583333333333333, 0.6583333333333333, 0.6583333333333333, 0.6583333333333333, 0.6583333333333333, 0.675, 0.675, 0.675, 0.675, 0.6833333333333333, 0.6916666666666667, 0.7166666666666667, 0.725, 0.7583333333333333, 0.7583333333333333, 0.7666666666666667, 0.7833333333333333, 0.7916666666666666, 0.8, 0.8, 0.8083333333333333, 0.8166666666666667, 0.825, 0.8416666666666667, 0.85, 0.8583333333333333, 0.8666666666666667, 0.875, 0.875, 0.8833333333333333, 0.8833333333333333, 0.8833333333333333, 0.8916666666666667, 0.8916666666666667, 0.8916666666666667, 0.8916666666666667, 0.8916666666666667, 0.9, 0.9083333333333333, 0.9166666666666666, 0.9166666666666666, 0.9166666666666666, 0.925, 0.925, 0.925, 0.925, 0.925, 0.925, 0.925, 0.925, 0.9333333333333333, 0.9333333333333333, 0.9333333333333333, 0.9333333333333333, 0.9333333333333333]\n",
      "Train Loss: 0.4708045148951115 | Train Accuracy: [0.3333333333333333, 0.325, 0.5416666666666666, 0.6583333333333333, 0.6583333333333333, 0.6583333333333333, 0.6583333333333333, 0.6583333333333333, 0.6583333333333333, 0.6583333333333333, 0.675, 0.675, 0.675, 0.675, 0.6833333333333333, 0.6916666666666667, 0.7166666666666667, 0.725, 0.7583333333333333, 0.7583333333333333, 0.7666666666666667, 0.7833333333333333, 0.7916666666666666, 0.8, 0.8, 0.8083333333333333, 0.8166666666666667, 0.825, 0.8416666666666667, 0.85, 0.8583333333333333, 0.8666666666666667, 0.875, 0.875, 0.8833333333333333, 0.8833333333333333, 0.8833333333333333, 0.8916666666666667, 0.8916666666666667, 0.8916666666666667, 0.8916666666666667, 0.8916666666666667, 0.9, 0.9083333333333333, 0.9166666666666666, 0.9166666666666666, 0.9166666666666666, 0.925, 0.925, 0.925, 0.925, 0.925, 0.925, 0.925, 0.925, 0.9333333333333333, 0.9333333333333333, 0.9333333333333333, 0.9333333333333333, 0.9333333333333333, 0.9333333333333333]\n",
      "Train Loss: 0.46856552550196057 | Train Accuracy: [0.3333333333333333, 0.325, 0.5416666666666666, 0.6583333333333333, 0.6583333333333333, 0.6583333333333333, 0.6583333333333333, 0.6583333333333333, 0.6583333333333333, 0.6583333333333333, 0.675, 0.675, 0.675, 0.675, 0.6833333333333333, 0.6916666666666667, 0.7166666666666667, 0.725, 0.7583333333333333, 0.7583333333333333, 0.7666666666666667, 0.7833333333333333, 0.7916666666666666, 0.8, 0.8, 0.8083333333333333, 0.8166666666666667, 0.825, 0.8416666666666667, 0.85, 0.8583333333333333, 0.8666666666666667, 0.875, 0.875, 0.8833333333333333, 0.8833333333333333, 0.8833333333333333, 0.8916666666666667, 0.8916666666666667, 0.8916666666666667, 0.8916666666666667, 0.8916666666666667, 0.9, 0.9083333333333333, 0.9166666666666666, 0.9166666666666666, 0.9166666666666666, 0.925, 0.925, 0.925, 0.925, 0.925, 0.925, 0.925, 0.925, 0.9333333333333333, 0.9333333333333333, 0.9333333333333333, 0.9333333333333333, 0.9333333333333333, 0.9333333333333333, 0.9333333333333333]\n",
      "Train Loss: 0.46636915098142173 | Train Accuracy: [0.3333333333333333, 0.325, 0.5416666666666666, 0.6583333333333333, 0.6583333333333333, 0.6583333333333333, 0.6583333333333333, 0.6583333333333333, 0.6583333333333333, 0.6583333333333333, 0.675, 0.675, 0.675, 0.675, 0.6833333333333333, 0.6916666666666667, 0.7166666666666667, 0.725, 0.7583333333333333, 0.7583333333333333, 0.7666666666666667, 0.7833333333333333, 0.7916666666666666, 0.8, 0.8, 0.8083333333333333, 0.8166666666666667, 0.825, 0.8416666666666667, 0.85, 0.8583333333333333, 0.8666666666666667, 0.875, 0.875, 0.8833333333333333, 0.8833333333333333, 0.8833333333333333, 0.8916666666666667, 0.8916666666666667, 0.8916666666666667, 0.8916666666666667, 0.8916666666666667, 0.9, 0.9083333333333333, 0.9166666666666666, 0.9166666666666666, 0.9166666666666666, 0.925, 0.925, 0.925, 0.925, 0.925, 0.925, 0.925, 0.925, 0.9333333333333333, 0.9333333333333333, 0.9333333333333333, 0.9333333333333333, 0.9333333333333333, 0.9333333333333333, 0.9333333333333333, 0.9416666666666667]\n",
      "Train Loss: 0.4642137246158509 | Train Accuracy: [0.3333333333333333, 0.325, 0.5416666666666666, 0.6583333333333333, 0.6583333333333333, 0.6583333333333333, 0.6583333333333333, 0.6583333333333333, 0.6583333333333333, 0.6583333333333333, 0.675, 0.675, 0.675, 0.675, 0.6833333333333333, 0.6916666666666667, 0.7166666666666667, 0.725, 0.7583333333333333, 0.7583333333333333, 0.7666666666666667, 0.7833333333333333, 0.7916666666666666, 0.8, 0.8, 0.8083333333333333, 0.8166666666666667, 0.825, 0.8416666666666667, 0.85, 0.8583333333333333, 0.8666666666666667, 0.875, 0.875, 0.8833333333333333, 0.8833333333333333, 0.8833333333333333, 0.8916666666666667, 0.8916666666666667, 0.8916666666666667, 0.8916666666666667, 0.8916666666666667, 0.9, 0.9083333333333333, 0.9166666666666666, 0.9166666666666666, 0.9166666666666666, 0.925, 0.925, 0.925, 0.925, 0.925, 0.925, 0.925, 0.925, 0.9333333333333333, 0.9333333333333333, 0.9333333333333333, 0.9333333333333333, 0.9333333333333333, 0.9333333333333333, 0.9333333333333333, 0.9416666666666667, 0.9416666666666667]\n",
      "Train Loss: 0.46209767206288394 | Train Accuracy: [0.3333333333333333, 0.325, 0.5416666666666666, 0.6583333333333333, 0.6583333333333333, 0.6583333333333333, 0.6583333333333333, 0.6583333333333333, 0.6583333333333333, 0.6583333333333333, 0.675, 0.675, 0.675, 0.675, 0.6833333333333333, 0.6916666666666667, 0.7166666666666667, 0.725, 0.7583333333333333, 0.7583333333333333, 0.7666666666666667, 0.7833333333333333, 0.7916666666666666, 0.8, 0.8, 0.8083333333333333, 0.8166666666666667, 0.825, 0.8416666666666667, 0.85, 0.8583333333333333, 0.8666666666666667, 0.875, 0.875, 0.8833333333333333, 0.8833333333333333, 0.8833333333333333, 0.8916666666666667, 0.8916666666666667, 0.8916666666666667, 0.8916666666666667, 0.8916666666666667, 0.9, 0.9083333333333333, 0.9166666666666666, 0.9166666666666666, 0.9166666666666666, 0.925, 0.925, 0.925, 0.925, 0.925, 0.925, 0.925, 0.925, 0.9333333333333333, 0.9333333333333333, 0.9333333333333333, 0.9333333333333333, 0.9333333333333333, 0.9333333333333333, 0.9333333333333333, 0.9416666666666667, 0.9416666666666667, 0.9416666666666667]\n",
      "Train Loss: 0.4600195050165112 | Train Accuracy: [0.3333333333333333, 0.325, 0.5416666666666666, 0.6583333333333333, 0.6583333333333333, 0.6583333333333333, 0.6583333333333333, 0.6583333333333333, 0.6583333333333333, 0.6583333333333333, 0.675, 0.675, 0.675, 0.675, 0.6833333333333333, 0.6916666666666667, 0.7166666666666667, 0.725, 0.7583333333333333, 0.7583333333333333, 0.7666666666666667, 0.7833333333333333, 0.7916666666666666, 0.8, 0.8, 0.8083333333333333, 0.8166666666666667, 0.825, 0.8416666666666667, 0.85, 0.8583333333333333, 0.8666666666666667, 0.875, 0.875, 0.8833333333333333, 0.8833333333333333, 0.8833333333333333, 0.8916666666666667, 0.8916666666666667, 0.8916666666666667, 0.8916666666666667, 0.8916666666666667, 0.9, 0.9083333333333333, 0.9166666666666666, 0.9166666666666666, 0.9166666666666666, 0.925, 0.925, 0.925, 0.925, 0.925, 0.925, 0.925, 0.925, 0.9333333333333333, 0.9333333333333333, 0.9333333333333333, 0.9333333333333333, 0.9333333333333333, 0.9333333333333333, 0.9333333333333333, 0.9416666666666667, 0.9416666666666667, 0.9416666666666667, 0.9416666666666667]\n",
      "Train Loss: 0.45797781537969223 | Train Accuracy: [0.3333333333333333, 0.325, 0.5416666666666666, 0.6583333333333333, 0.6583333333333333, 0.6583333333333333, 0.6583333333333333, 0.6583333333333333, 0.6583333333333333, 0.6583333333333333, 0.675, 0.675, 0.675, 0.675, 0.6833333333333333, 0.6916666666666667, 0.7166666666666667, 0.725, 0.7583333333333333, 0.7583333333333333, 0.7666666666666667, 0.7833333333333333, 0.7916666666666666, 0.8, 0.8, 0.8083333333333333, 0.8166666666666667, 0.825, 0.8416666666666667, 0.85, 0.8583333333333333, 0.8666666666666667, 0.875, 0.875, 0.8833333333333333, 0.8833333333333333, 0.8833333333333333, 0.8916666666666667, 0.8916666666666667, 0.8916666666666667, 0.8916666666666667, 0.8916666666666667, 0.9, 0.9083333333333333, 0.9166666666666666, 0.9166666666666666, 0.9166666666666666, 0.925, 0.925, 0.925, 0.925, 0.925, 0.925, 0.925, 0.925, 0.9333333333333333, 0.9333333333333333, 0.9333333333333333, 0.9333333333333333, 0.9333333333333333, 0.9333333333333333, 0.9333333333333333, 0.9416666666666667, 0.9416666666666667, 0.9416666666666667, 0.9416666666666667, 0.9416666666666667]\n",
      "Train Loss: 0.4559712699013936 | Train Accuracy: [0.3333333333333333, 0.325, 0.5416666666666666, 0.6583333333333333, 0.6583333333333333, 0.6583333333333333, 0.6583333333333333, 0.6583333333333333, 0.6583333333333333, 0.6583333333333333, 0.675, 0.675, 0.675, 0.675, 0.6833333333333333, 0.6916666666666667, 0.7166666666666667, 0.725, 0.7583333333333333, 0.7583333333333333, 0.7666666666666667, 0.7833333333333333, 0.7916666666666666, 0.8, 0.8, 0.8083333333333333, 0.8166666666666667, 0.825, 0.8416666666666667, 0.85, 0.8583333333333333, 0.8666666666666667, 0.875, 0.875, 0.8833333333333333, 0.8833333333333333, 0.8833333333333333, 0.8916666666666667, 0.8916666666666667, 0.8916666666666667, 0.8916666666666667, 0.8916666666666667, 0.9, 0.9083333333333333, 0.9166666666666666, 0.9166666666666666, 0.9166666666666666, 0.925, 0.925, 0.925, 0.925, 0.925, 0.925, 0.925, 0.925, 0.9333333333333333, 0.9333333333333333, 0.9333333333333333, 0.9333333333333333, 0.9333333333333333, 0.9333333333333333, 0.9333333333333333, 0.9416666666666667, 0.9416666666666667, 0.9416666666666667, 0.9416666666666667, 0.9416666666666667, 0.9416666666666667]\n",
      "Train Loss: 0.45399860523578045 | Train Accuracy: [0.3333333333333333, 0.325, 0.5416666666666666, 0.6583333333333333, 0.6583333333333333, 0.6583333333333333, 0.6583333333333333, 0.6583333333333333, 0.6583333333333333, 0.6583333333333333, 0.675, 0.675, 0.675, 0.675, 0.6833333333333333, 0.6916666666666667, 0.7166666666666667, 0.725, 0.7583333333333333, 0.7583333333333333, 0.7666666666666667, 0.7833333333333333, 0.7916666666666666, 0.8, 0.8, 0.8083333333333333, 0.8166666666666667, 0.825, 0.8416666666666667, 0.85, 0.8583333333333333, 0.8666666666666667, 0.875, 0.875, 0.8833333333333333, 0.8833333333333333, 0.8833333333333333, 0.8916666666666667, 0.8916666666666667, 0.8916666666666667, 0.8916666666666667, 0.8916666666666667, 0.9, 0.9083333333333333, 0.9166666666666666, 0.9166666666666666, 0.9166666666666666, 0.925, 0.925, 0.925, 0.925, 0.925, 0.925, 0.925, 0.925, 0.9333333333333333, 0.9333333333333333, 0.9333333333333333, 0.9333333333333333, 0.9333333333333333, 0.9333333333333333, 0.9333333333333333, 0.9416666666666667, 0.9416666666666667, 0.9416666666666667, 0.9416666666666667, 0.9416666666666667, 0.9416666666666667, 0.9416666666666667]\n",
      "Train Loss: 0.4520586233855956 | Train Accuracy: [0.3333333333333333, 0.325, 0.5416666666666666, 0.6583333333333333, 0.6583333333333333, 0.6583333333333333, 0.6583333333333333, 0.6583333333333333, 0.6583333333333333, 0.6583333333333333, 0.675, 0.675, 0.675, 0.675, 0.6833333333333333, 0.6916666666666667, 0.7166666666666667, 0.725, 0.7583333333333333, 0.7583333333333333, 0.7666666666666667, 0.7833333333333333, 0.7916666666666666, 0.8, 0.8, 0.8083333333333333, 0.8166666666666667, 0.825, 0.8416666666666667, 0.85, 0.8583333333333333, 0.8666666666666667, 0.875, 0.875, 0.8833333333333333, 0.8833333333333333, 0.8833333333333333, 0.8916666666666667, 0.8916666666666667, 0.8916666666666667, 0.8916666666666667, 0.8916666666666667, 0.9, 0.9083333333333333, 0.9166666666666666, 0.9166666666666666, 0.9166666666666666, 0.925, 0.925, 0.925, 0.925, 0.925, 0.925, 0.925, 0.925, 0.9333333333333333, 0.9333333333333333, 0.9333333333333333, 0.9333333333333333, 0.9333333333333333, 0.9333333333333333, 0.9333333333333333, 0.9416666666666667, 0.9416666666666667, 0.9416666666666667, 0.9416666666666667, 0.9416666666666667, 0.9416666666666667, 0.9416666666666667, 0.9416666666666667]\n",
      "Train Loss: 0.4501501874955738 | Train Accuracy: [0.3333333333333333, 0.325, 0.5416666666666666, 0.6583333333333333, 0.6583333333333333, 0.6583333333333333, 0.6583333333333333, 0.6583333333333333, 0.6583333333333333, 0.6583333333333333, 0.675, 0.675, 0.675, 0.675, 0.6833333333333333, 0.6916666666666667, 0.7166666666666667, 0.725, 0.7583333333333333, 0.7583333333333333, 0.7666666666666667, 0.7833333333333333, 0.7916666666666666, 0.8, 0.8, 0.8083333333333333, 0.8166666666666667, 0.825, 0.8416666666666667, 0.85, 0.8583333333333333, 0.8666666666666667, 0.875, 0.875, 0.8833333333333333, 0.8833333333333333, 0.8833333333333333, 0.8916666666666667, 0.8916666666666667, 0.8916666666666667, 0.8916666666666667, 0.8916666666666667, 0.9, 0.9083333333333333, 0.9166666666666666, 0.9166666666666666, 0.9166666666666666, 0.925, 0.925, 0.925, 0.925, 0.925, 0.925, 0.925, 0.925, 0.9333333333333333, 0.9333333333333333, 0.9333333333333333, 0.9333333333333333, 0.9333333333333333, 0.9333333333333333, 0.9333333333333333, 0.9416666666666667, 0.9416666666666667, 0.9416666666666667, 0.9416666666666667, 0.9416666666666667, 0.9416666666666667, 0.9416666666666667, 0.9416666666666667, 0.9416666666666667]\n",
      "Train Loss: 0.44827221796514133 | Train Accuracy: [0.3333333333333333, 0.325, 0.5416666666666666, 0.6583333333333333, 0.6583333333333333, 0.6583333333333333, 0.6583333333333333, 0.6583333333333333, 0.6583333333333333, 0.6583333333333333, 0.675, 0.675, 0.675, 0.675, 0.6833333333333333, 0.6916666666666667, 0.7166666666666667, 0.725, 0.7583333333333333, 0.7583333333333333, 0.7666666666666667, 0.7833333333333333, 0.7916666666666666, 0.8, 0.8, 0.8083333333333333, 0.8166666666666667, 0.825, 0.8416666666666667, 0.85, 0.8583333333333333, 0.8666666666666667, 0.875, 0.875, 0.8833333333333333, 0.8833333333333333, 0.8833333333333333, 0.8916666666666667, 0.8916666666666667, 0.8916666666666667, 0.8916666666666667, 0.8916666666666667, 0.9, 0.9083333333333333, 0.9166666666666666, 0.9166666666666666, 0.9166666666666666, 0.925, 0.925, 0.925, 0.925, 0.925, 0.925, 0.925, 0.925, 0.9333333333333333, 0.9333333333333333, 0.9333333333333333, 0.9333333333333333, 0.9333333333333333, 0.9333333333333333, 0.9333333333333333, 0.9416666666666667, 0.9416666666666667, 0.9416666666666667, 0.9416666666666667, 0.9416666666666667, 0.9416666666666667, 0.9416666666666667, 0.9416666666666667, 0.9416666666666667, 0.9416666666666667]\n",
      "Train Loss: 0.44642368885266864 | Train Accuracy: [0.3333333333333333, 0.325, 0.5416666666666666, 0.6583333333333333, 0.6583333333333333, 0.6583333333333333, 0.6583333333333333, 0.6583333333333333, 0.6583333333333333, 0.6583333333333333, 0.675, 0.675, 0.675, 0.675, 0.6833333333333333, 0.6916666666666667, 0.7166666666666667, 0.725, 0.7583333333333333, 0.7583333333333333, 0.7666666666666667, 0.7833333333333333, 0.7916666666666666, 0.8, 0.8, 0.8083333333333333, 0.8166666666666667, 0.825, 0.8416666666666667, 0.85, 0.8583333333333333, 0.8666666666666667, 0.875, 0.875, 0.8833333333333333, 0.8833333333333333, 0.8833333333333333, 0.8916666666666667, 0.8916666666666667, 0.8916666666666667, 0.8916666666666667, 0.8916666666666667, 0.9, 0.9083333333333333, 0.9166666666666666, 0.9166666666666666, 0.9166666666666666, 0.925, 0.925, 0.925, 0.925, 0.925, 0.925, 0.925, 0.925, 0.9333333333333333, 0.9333333333333333, 0.9333333333333333, 0.9333333333333333, 0.9333333333333333, 0.9333333333333333, 0.9333333333333333, 0.9416666666666667, 0.9416666666666667, 0.9416666666666667, 0.9416666666666667, 0.9416666666666667, 0.9416666666666667, 0.9416666666666667, 0.9416666666666667, 0.9416666666666667, 0.9416666666666667, 0.9416666666666667]\n",
      "Train Loss: 0.4446036245462472 | Train Accuracy: [0.3333333333333333, 0.325, 0.5416666666666666, 0.6583333333333333, 0.6583333333333333, 0.6583333333333333, 0.6583333333333333, 0.6583333333333333, 0.6583333333333333, 0.6583333333333333, 0.675, 0.675, 0.675, 0.675, 0.6833333333333333, 0.6916666666666667, 0.7166666666666667, 0.725, 0.7583333333333333, 0.7583333333333333, 0.7666666666666667, 0.7833333333333333, 0.7916666666666666, 0.8, 0.8, 0.8083333333333333, 0.8166666666666667, 0.825, 0.8416666666666667, 0.85, 0.8583333333333333, 0.8666666666666667, 0.875, 0.875, 0.8833333333333333, 0.8833333333333333, 0.8833333333333333, 0.8916666666666667, 0.8916666666666667, 0.8916666666666667, 0.8916666666666667, 0.8916666666666667, 0.9, 0.9083333333333333, 0.9166666666666666, 0.9166666666666666, 0.9166666666666666, 0.925, 0.925, 0.925, 0.925, 0.925, 0.925, 0.925, 0.925, 0.9333333333333333, 0.9333333333333333, 0.9333333333333333, 0.9333333333333333, 0.9333333333333333, 0.9333333333333333, 0.9333333333333333, 0.9416666666666667, 0.9416666666666667, 0.9416666666666667, 0.9416666666666667, 0.9416666666666667, 0.9416666666666667, 0.9416666666666667, 0.9416666666666667, 0.9416666666666667, 0.9416666666666667, 0.9416666666666667, 0.9416666666666667]\n",
      "Train Loss: 0.442811096678365 | Train Accuracy: [0.3333333333333333, 0.325, 0.5416666666666666, 0.6583333333333333, 0.6583333333333333, 0.6583333333333333, 0.6583333333333333, 0.6583333333333333, 0.6583333333333333, 0.6583333333333333, 0.675, 0.675, 0.675, 0.675, 0.6833333333333333, 0.6916666666666667, 0.7166666666666667, 0.725, 0.7583333333333333, 0.7583333333333333, 0.7666666666666667, 0.7833333333333333, 0.7916666666666666, 0.8, 0.8, 0.8083333333333333, 0.8166666666666667, 0.825, 0.8416666666666667, 0.85, 0.8583333333333333, 0.8666666666666667, 0.875, 0.875, 0.8833333333333333, 0.8833333333333333, 0.8833333333333333, 0.8916666666666667, 0.8916666666666667, 0.8916666666666667, 0.8916666666666667, 0.8916666666666667, 0.9, 0.9083333333333333, 0.9166666666666666, 0.9166666666666666, 0.9166666666666666, 0.925, 0.925, 0.925, 0.925, 0.925, 0.925, 0.925, 0.925, 0.9333333333333333, 0.9333333333333333, 0.9333333333333333, 0.9333333333333333, 0.9333333333333333, 0.9333333333333333, 0.9333333333333333, 0.9416666666666667, 0.9416666666666667, 0.9416666666666667, 0.9416666666666667, 0.9416666666666667, 0.9416666666666667, 0.9416666666666667, 0.9416666666666667, 0.9416666666666667, 0.9416666666666667, 0.9416666666666667, 0.9416666666666667, 0.9416666666666667]\n",
      "Train Loss: 0.4410452212640105 | Train Accuracy: [0.3333333333333333, 0.325, 0.5416666666666666, 0.6583333333333333, 0.6583333333333333, 0.6583333333333333, 0.6583333333333333, 0.6583333333333333, 0.6583333333333333, 0.6583333333333333, 0.675, 0.675, 0.675, 0.675, 0.6833333333333333, 0.6916666666666667, 0.7166666666666667, 0.725, 0.7583333333333333, 0.7583333333333333, 0.7666666666666667, 0.7833333333333333, 0.7916666666666666, 0.8, 0.8, 0.8083333333333333, 0.8166666666666667, 0.825, 0.8416666666666667, 0.85, 0.8583333333333333, 0.8666666666666667, 0.875, 0.875, 0.8833333333333333, 0.8833333333333333, 0.8833333333333333, 0.8916666666666667, 0.8916666666666667, 0.8916666666666667, 0.8916666666666667, 0.8916666666666667, 0.9, 0.9083333333333333, 0.9166666666666666, 0.9166666666666666, 0.9166666666666666, 0.925, 0.925, 0.925, 0.925, 0.925, 0.925, 0.925, 0.925, 0.9333333333333333, 0.9333333333333333, 0.9333333333333333, 0.9333333333333333, 0.9333333333333333, 0.9333333333333333, 0.9333333333333333, 0.9416666666666667, 0.9416666666666667, 0.9416666666666667, 0.9416666666666667, 0.9416666666666667, 0.9416666666666667, 0.9416666666666667, 0.9416666666666667, 0.9416666666666667, 0.9416666666666667, 0.9416666666666667, 0.9416666666666667, 0.9416666666666667, 0.9416666666666667]\n",
      "Train Loss: 0.4393051560436593 | Train Accuracy: [0.3333333333333333, 0.325, 0.5416666666666666, 0.6583333333333333, 0.6583333333333333, 0.6583333333333333, 0.6583333333333333, 0.6583333333333333, 0.6583333333333333, 0.6583333333333333, 0.675, 0.675, 0.675, 0.675, 0.6833333333333333, 0.6916666666666667, 0.7166666666666667, 0.725, 0.7583333333333333, 0.7583333333333333, 0.7666666666666667, 0.7833333333333333, 0.7916666666666666, 0.8, 0.8, 0.8083333333333333, 0.8166666666666667, 0.825, 0.8416666666666667, 0.85, 0.8583333333333333, 0.8666666666666667, 0.875, 0.875, 0.8833333333333333, 0.8833333333333333, 0.8833333333333333, 0.8916666666666667, 0.8916666666666667, 0.8916666666666667, 0.8916666666666667, 0.8916666666666667, 0.9, 0.9083333333333333, 0.9166666666666666, 0.9166666666666666, 0.9166666666666666, 0.925, 0.925, 0.925, 0.925, 0.925, 0.925, 0.925, 0.925, 0.9333333333333333, 0.9333333333333333, 0.9333333333333333, 0.9333333333333333, 0.9333333333333333, 0.9333333333333333, 0.9333333333333333, 0.9416666666666667, 0.9416666666666667, 0.9416666666666667, 0.9416666666666667, 0.9416666666666667, 0.9416666666666667, 0.9416666666666667, 0.9416666666666667, 0.9416666666666667, 0.9416666666666667, 0.9416666666666667, 0.9416666666666667, 0.9416666666666667, 0.9416666666666667, 0.9416666666666667]\n",
      "Train Loss: 0.43759009801432647 | Train Accuracy: [0.3333333333333333, 0.325, 0.5416666666666666, 0.6583333333333333, 0.6583333333333333, 0.6583333333333333, 0.6583333333333333, 0.6583333333333333, 0.6583333333333333, 0.6583333333333333, 0.675, 0.675, 0.675, 0.675, 0.6833333333333333, 0.6916666666666667, 0.7166666666666667, 0.725, 0.7583333333333333, 0.7583333333333333, 0.7666666666666667, 0.7833333333333333, 0.7916666666666666, 0.8, 0.8, 0.8083333333333333, 0.8166666666666667, 0.825, 0.8416666666666667, 0.85, 0.8583333333333333, 0.8666666666666667, 0.875, 0.875, 0.8833333333333333, 0.8833333333333333, 0.8833333333333333, 0.8916666666666667, 0.8916666666666667, 0.8916666666666667, 0.8916666666666667, 0.8916666666666667, 0.9, 0.9083333333333333, 0.9166666666666666, 0.9166666666666666, 0.9166666666666666, 0.925, 0.925, 0.925, 0.925, 0.925, 0.925, 0.925, 0.925, 0.9333333333333333, 0.9333333333333333, 0.9333333333333333, 0.9333333333333333, 0.9333333333333333, 0.9333333333333333, 0.9333333333333333, 0.9416666666666667, 0.9416666666666667, 0.9416666666666667, 0.9416666666666667, 0.9416666666666667, 0.9416666666666667, 0.9416666666666667, 0.9416666666666667, 0.9416666666666667, 0.9416666666666667, 0.9416666666666667, 0.9416666666666667, 0.9416666666666667, 0.9416666666666667, 0.9416666666666667, 0.9416666666666667]\n",
      "Train Loss: 0.43589928113341625 | Train Accuracy: [0.3333333333333333, 0.325, 0.5416666666666666, 0.6583333333333333, 0.6583333333333333, 0.6583333333333333, 0.6583333333333333, 0.6583333333333333, 0.6583333333333333, 0.6583333333333333, 0.675, 0.675, 0.675, 0.675, 0.6833333333333333, 0.6916666666666667, 0.7166666666666667, 0.725, 0.7583333333333333, 0.7583333333333333, 0.7666666666666667, 0.7833333333333333, 0.7916666666666666, 0.8, 0.8, 0.8083333333333333, 0.8166666666666667, 0.825, 0.8416666666666667, 0.85, 0.8583333333333333, 0.8666666666666667, 0.875, 0.875, 0.8833333333333333, 0.8833333333333333, 0.8833333333333333, 0.8916666666666667, 0.8916666666666667, 0.8916666666666667, 0.8916666666666667, 0.8916666666666667, 0.9, 0.9083333333333333, 0.9166666666666666, 0.9166666666666666, 0.9166666666666666, 0.925, 0.925, 0.925, 0.925, 0.925, 0.925, 0.925, 0.925, 0.9333333333333333, 0.9333333333333333, 0.9333333333333333, 0.9333333333333333, 0.9333333333333333, 0.9333333333333333, 0.9333333333333333, 0.9416666666666667, 0.9416666666666667, 0.9416666666666667, 0.9416666666666667, 0.9416666666666667, 0.9416666666666667, 0.9416666666666667, 0.9416666666666667, 0.9416666666666667, 0.9416666666666667, 0.9416666666666667, 0.9416666666666667, 0.9416666666666667, 0.9416666666666667, 0.9416666666666667, 0.9416666666666667, 0.9416666666666667]\n",
      "Train Loss: 0.4342319741814914 | Train Accuracy: [0.3333333333333333, 0.325, 0.5416666666666666, 0.6583333333333333, 0.6583333333333333, 0.6583333333333333, 0.6583333333333333, 0.6583333333333333, 0.6583333333333333, 0.6583333333333333, 0.675, 0.675, 0.675, 0.675, 0.6833333333333333, 0.6916666666666667, 0.7166666666666667, 0.725, 0.7583333333333333, 0.7583333333333333, 0.7666666666666667, 0.7833333333333333, 0.7916666666666666, 0.8, 0.8, 0.8083333333333333, 0.8166666666666667, 0.825, 0.8416666666666667, 0.85, 0.8583333333333333, 0.8666666666666667, 0.875, 0.875, 0.8833333333333333, 0.8833333333333333, 0.8833333333333333, 0.8916666666666667, 0.8916666666666667, 0.8916666666666667, 0.8916666666666667, 0.8916666666666667, 0.9, 0.9083333333333333, 0.9166666666666666, 0.9166666666666666, 0.9166666666666666, 0.925, 0.925, 0.925, 0.925, 0.925, 0.925, 0.925, 0.925, 0.9333333333333333, 0.9333333333333333, 0.9333333333333333, 0.9333333333333333, 0.9333333333333333, 0.9333333333333333, 0.9333333333333333, 0.9416666666666667, 0.9416666666666667, 0.9416666666666667, 0.9416666666666667, 0.9416666666666667, 0.9416666666666667, 0.9416666666666667, 0.9416666666666667, 0.9416666666666667, 0.9416666666666667, 0.9416666666666667, 0.9416666666666667, 0.9416666666666667, 0.9416666666666667, 0.9416666666666667, 0.9416666666666667, 0.9416666666666667, 0.95]\n",
      "Train Loss: 0.4325874787713372 | Train Accuracy: [0.3333333333333333, 0.325, 0.5416666666666666, 0.6583333333333333, 0.6583333333333333, 0.6583333333333333, 0.6583333333333333, 0.6583333333333333, 0.6583333333333333, 0.6583333333333333, 0.675, 0.675, 0.675, 0.675, 0.6833333333333333, 0.6916666666666667, 0.7166666666666667, 0.725, 0.7583333333333333, 0.7583333333333333, 0.7666666666666667, 0.7833333333333333, 0.7916666666666666, 0.8, 0.8, 0.8083333333333333, 0.8166666666666667, 0.825, 0.8416666666666667, 0.85, 0.8583333333333333, 0.8666666666666667, 0.875, 0.875, 0.8833333333333333, 0.8833333333333333, 0.8833333333333333, 0.8916666666666667, 0.8916666666666667, 0.8916666666666667, 0.8916666666666667, 0.8916666666666667, 0.9, 0.9083333333333333, 0.9166666666666666, 0.9166666666666666, 0.9166666666666666, 0.925, 0.925, 0.925, 0.925, 0.925, 0.925, 0.925, 0.925, 0.9333333333333333, 0.9333333333333333, 0.9333333333333333, 0.9333333333333333, 0.9333333333333333, 0.9333333333333333, 0.9333333333333333, 0.9416666666666667, 0.9416666666666667, 0.9416666666666667, 0.9416666666666667, 0.9416666666666667, 0.9416666666666667, 0.9416666666666667, 0.9416666666666667, 0.9416666666666667, 0.9416666666666667, 0.9416666666666667, 0.9416666666666667, 0.9416666666666667, 0.9416666666666667, 0.9416666666666667, 0.9416666666666667, 0.9416666666666667, 0.95, 0.95]\n",
      "Train Loss: 0.43096512749182214 | Train Accuracy: [0.3333333333333333, 0.325, 0.5416666666666666, 0.6583333333333333, 0.6583333333333333, 0.6583333333333333, 0.6583333333333333, 0.6583333333333333, 0.6583333333333333, 0.6583333333333333, 0.675, 0.675, 0.675, 0.675, 0.6833333333333333, 0.6916666666666667, 0.7166666666666667, 0.725, 0.7583333333333333, 0.7583333333333333, 0.7666666666666667, 0.7833333333333333, 0.7916666666666666, 0.8, 0.8, 0.8083333333333333, 0.8166666666666667, 0.825, 0.8416666666666667, 0.85, 0.8583333333333333, 0.8666666666666667, 0.875, 0.875, 0.8833333333333333, 0.8833333333333333, 0.8833333333333333, 0.8916666666666667, 0.8916666666666667, 0.8916666666666667, 0.8916666666666667, 0.8916666666666667, 0.9, 0.9083333333333333, 0.9166666666666666, 0.9166666666666666, 0.9166666666666666, 0.925, 0.925, 0.925, 0.925, 0.925, 0.925, 0.925, 0.925, 0.9333333333333333, 0.9333333333333333, 0.9333333333333333, 0.9333333333333333, 0.9333333333333333, 0.9333333333333333, 0.9333333333333333, 0.9416666666666667, 0.9416666666666667, 0.9416666666666667, 0.9416666666666667, 0.9416666666666667, 0.9416666666666667, 0.9416666666666667, 0.9416666666666667, 0.9416666666666667, 0.9416666666666667, 0.9416666666666667, 0.9416666666666667, 0.9416666666666667, 0.9416666666666667, 0.9416666666666667, 0.9416666666666667, 0.9416666666666667, 0.95, 0.95, 0.95]\n",
      "Train Loss: 0.42936428217607225 | Train Accuracy: [0.3333333333333333, 0.325, 0.5416666666666666, 0.6583333333333333, 0.6583333333333333, 0.6583333333333333, 0.6583333333333333, 0.6583333333333333, 0.6583333333333333, 0.6583333333333333, 0.675, 0.675, 0.675, 0.675, 0.6833333333333333, 0.6916666666666667, 0.7166666666666667, 0.725, 0.7583333333333333, 0.7583333333333333, 0.7666666666666667, 0.7833333333333333, 0.7916666666666666, 0.8, 0.8, 0.8083333333333333, 0.8166666666666667, 0.825, 0.8416666666666667, 0.85, 0.8583333333333333, 0.8666666666666667, 0.875, 0.875, 0.8833333333333333, 0.8833333333333333, 0.8833333333333333, 0.8916666666666667, 0.8916666666666667, 0.8916666666666667, 0.8916666666666667, 0.8916666666666667, 0.9, 0.9083333333333333, 0.9166666666666666, 0.9166666666666666, 0.9166666666666666, 0.925, 0.925, 0.925, 0.925, 0.925, 0.925, 0.925, 0.925, 0.9333333333333333, 0.9333333333333333, 0.9333333333333333, 0.9333333333333333, 0.9333333333333333, 0.9333333333333333, 0.9333333333333333, 0.9416666666666667, 0.9416666666666667, 0.9416666666666667, 0.9416666666666667, 0.9416666666666667, 0.9416666666666667, 0.9416666666666667, 0.9416666666666667, 0.9416666666666667, 0.9416666666666667, 0.9416666666666667, 0.9416666666666667, 0.9416666666666667, 0.9416666666666667, 0.9416666666666667, 0.9416666666666667, 0.9416666666666667, 0.95, 0.95, 0.95, 0.9583333333333334]\n",
      "Train Loss: 0.4277843322843922 | Train Accuracy: [0.3333333333333333, 0.325, 0.5416666666666666, 0.6583333333333333, 0.6583333333333333, 0.6583333333333333, 0.6583333333333333, 0.6583333333333333, 0.6583333333333333, 0.6583333333333333, 0.675, 0.675, 0.675, 0.675, 0.6833333333333333, 0.6916666666666667, 0.7166666666666667, 0.725, 0.7583333333333333, 0.7583333333333333, 0.7666666666666667, 0.7833333333333333, 0.7916666666666666, 0.8, 0.8, 0.8083333333333333, 0.8166666666666667, 0.825, 0.8416666666666667, 0.85, 0.8583333333333333, 0.8666666666666667, 0.875, 0.875, 0.8833333333333333, 0.8833333333333333, 0.8833333333333333, 0.8916666666666667, 0.8916666666666667, 0.8916666666666667, 0.8916666666666667, 0.8916666666666667, 0.9, 0.9083333333333333, 0.9166666666666666, 0.9166666666666666, 0.9166666666666666, 0.925, 0.925, 0.925, 0.925, 0.925, 0.925, 0.925, 0.925, 0.9333333333333333, 0.9333333333333333, 0.9333333333333333, 0.9333333333333333, 0.9333333333333333, 0.9333333333333333, 0.9333333333333333, 0.9416666666666667, 0.9416666666666667, 0.9416666666666667, 0.9416666666666667, 0.9416666666666667, 0.9416666666666667, 0.9416666666666667, 0.9416666666666667, 0.9416666666666667, 0.9416666666666667, 0.9416666666666667, 0.9416666666666667, 0.9416666666666667, 0.9416666666666667, 0.9416666666666667, 0.9416666666666667, 0.9416666666666667, 0.95, 0.95, 0.95, 0.9583333333333334, 0.9583333333333334]\n",
      "Train Loss: 0.42622469339319713 | Train Accuracy: [0.3333333333333333, 0.325, 0.5416666666666666, 0.6583333333333333, 0.6583333333333333, 0.6583333333333333, 0.6583333333333333, 0.6583333333333333, 0.6583333333333333, 0.6583333333333333, 0.675, 0.675, 0.675, 0.675, 0.6833333333333333, 0.6916666666666667, 0.7166666666666667, 0.725, 0.7583333333333333, 0.7583333333333333, 0.7666666666666667, 0.7833333333333333, 0.7916666666666666, 0.8, 0.8, 0.8083333333333333, 0.8166666666666667, 0.825, 0.8416666666666667, 0.85, 0.8583333333333333, 0.8666666666666667, 0.875, 0.875, 0.8833333333333333, 0.8833333333333333, 0.8833333333333333, 0.8916666666666667, 0.8916666666666667, 0.8916666666666667, 0.8916666666666667, 0.8916666666666667, 0.9, 0.9083333333333333, 0.9166666666666666, 0.9166666666666666, 0.9166666666666666, 0.925, 0.925, 0.925, 0.925, 0.925, 0.925, 0.925, 0.925, 0.9333333333333333, 0.9333333333333333, 0.9333333333333333, 0.9333333333333333, 0.9333333333333333, 0.9333333333333333, 0.9333333333333333, 0.9416666666666667, 0.9416666666666667, 0.9416666666666667, 0.9416666666666667, 0.9416666666666667, 0.9416666666666667, 0.9416666666666667, 0.9416666666666667, 0.9416666666666667, 0.9416666666666667, 0.9416666666666667, 0.9416666666666667, 0.9416666666666667, 0.9416666666666667, 0.9416666666666667, 0.9416666666666667, 0.9416666666666667, 0.95, 0.95, 0.95, 0.9583333333333334, 0.9583333333333334, 0.9583333333333334]\n",
      "Train Loss: 0.42468480578196194 | Train Accuracy: [0.3333333333333333, 0.325, 0.5416666666666666, 0.6583333333333333, 0.6583333333333333, 0.6583333333333333, 0.6583333333333333, 0.6583333333333333, 0.6583333333333333, 0.6583333333333333, 0.675, 0.675, 0.675, 0.675, 0.6833333333333333, 0.6916666666666667, 0.7166666666666667, 0.725, 0.7583333333333333, 0.7583333333333333, 0.7666666666666667, 0.7833333333333333, 0.7916666666666666, 0.8, 0.8, 0.8083333333333333, 0.8166666666666667, 0.825, 0.8416666666666667, 0.85, 0.8583333333333333, 0.8666666666666667, 0.875, 0.875, 0.8833333333333333, 0.8833333333333333, 0.8833333333333333, 0.8916666666666667, 0.8916666666666667, 0.8916666666666667, 0.8916666666666667, 0.8916666666666667, 0.9, 0.9083333333333333, 0.9166666666666666, 0.9166666666666666, 0.9166666666666666, 0.925, 0.925, 0.925, 0.925, 0.925, 0.925, 0.925, 0.925, 0.9333333333333333, 0.9333333333333333, 0.9333333333333333, 0.9333333333333333, 0.9333333333333333, 0.9333333333333333, 0.9333333333333333, 0.9416666666666667, 0.9416666666666667, 0.9416666666666667, 0.9416666666666667, 0.9416666666666667, 0.9416666666666667, 0.9416666666666667, 0.9416666666666667, 0.9416666666666667, 0.9416666666666667, 0.9416666666666667, 0.9416666666666667, 0.9416666666666667, 0.9416666666666667, 0.9416666666666667, 0.9416666666666667, 0.9416666666666667, 0.95, 0.95, 0.95, 0.9583333333333334, 0.9583333333333334, 0.9583333333333334, 0.9583333333333334]\n",
      "Train Loss: 0.42316413311088036 | Train Accuracy: [0.3333333333333333, 0.325, 0.5416666666666666, 0.6583333333333333, 0.6583333333333333, 0.6583333333333333, 0.6583333333333333, 0.6583333333333333, 0.6583333333333333, 0.6583333333333333, 0.675, 0.675, 0.675, 0.675, 0.6833333333333333, 0.6916666666666667, 0.7166666666666667, 0.725, 0.7583333333333333, 0.7583333333333333, 0.7666666666666667, 0.7833333333333333, 0.7916666666666666, 0.8, 0.8, 0.8083333333333333, 0.8166666666666667, 0.825, 0.8416666666666667, 0.85, 0.8583333333333333, 0.8666666666666667, 0.875, 0.875, 0.8833333333333333, 0.8833333333333333, 0.8833333333333333, 0.8916666666666667, 0.8916666666666667, 0.8916666666666667, 0.8916666666666667, 0.8916666666666667, 0.9, 0.9083333333333333, 0.9166666666666666, 0.9166666666666666, 0.9166666666666666, 0.925, 0.925, 0.925, 0.925, 0.925, 0.925, 0.925, 0.925, 0.9333333333333333, 0.9333333333333333, 0.9333333333333333, 0.9333333333333333, 0.9333333333333333, 0.9333333333333333, 0.9333333333333333, 0.9416666666666667, 0.9416666666666667, 0.9416666666666667, 0.9416666666666667, 0.9416666666666667, 0.9416666666666667, 0.9416666666666667, 0.9416666666666667, 0.9416666666666667, 0.9416666666666667, 0.9416666666666667, 0.9416666666666667, 0.9416666666666667, 0.9416666666666667, 0.9416666666666667, 0.9416666666666667, 0.9416666666666667, 0.95, 0.95, 0.95, 0.9583333333333334, 0.9583333333333334, 0.9583333333333334, 0.9583333333333334, 0.9583333333333334]\n",
      "Train Loss: 0.4216621611825321 | Train Accuracy: [0.3333333333333333, 0.325, 0.5416666666666666, 0.6583333333333333, 0.6583333333333333, 0.6583333333333333, 0.6583333333333333, 0.6583333333333333, 0.6583333333333333, 0.6583333333333333, 0.675, 0.675, 0.675, 0.675, 0.6833333333333333, 0.6916666666666667, 0.7166666666666667, 0.725, 0.7583333333333333, 0.7583333333333333, 0.7666666666666667, 0.7833333333333333, 0.7916666666666666, 0.8, 0.8, 0.8083333333333333, 0.8166666666666667, 0.825, 0.8416666666666667, 0.85, 0.8583333333333333, 0.8666666666666667, 0.875, 0.875, 0.8833333333333333, 0.8833333333333333, 0.8833333333333333, 0.8916666666666667, 0.8916666666666667, 0.8916666666666667, 0.8916666666666667, 0.8916666666666667, 0.9, 0.9083333333333333, 0.9166666666666666, 0.9166666666666666, 0.9166666666666666, 0.925, 0.925, 0.925, 0.925, 0.925, 0.925, 0.925, 0.925, 0.9333333333333333, 0.9333333333333333, 0.9333333333333333, 0.9333333333333333, 0.9333333333333333, 0.9333333333333333, 0.9333333333333333, 0.9416666666666667, 0.9416666666666667, 0.9416666666666667, 0.9416666666666667, 0.9416666666666667, 0.9416666666666667, 0.9416666666666667, 0.9416666666666667, 0.9416666666666667, 0.9416666666666667, 0.9416666666666667, 0.9416666666666667, 0.9416666666666667, 0.9416666666666667, 0.9416666666666667, 0.9416666666666667, 0.9416666666666667, 0.95, 0.95, 0.95, 0.9583333333333334, 0.9583333333333334, 0.9583333333333334, 0.9583333333333334, 0.9583333333333334, 0.9583333333333334]\n",
      "Train Loss: 0.42017839678141916 | Train Accuracy: [0.3333333333333333, 0.325, 0.5416666666666666, 0.6583333333333333, 0.6583333333333333, 0.6583333333333333, 0.6583333333333333, 0.6583333333333333, 0.6583333333333333, 0.6583333333333333, 0.675, 0.675, 0.675, 0.675, 0.6833333333333333, 0.6916666666666667, 0.7166666666666667, 0.725, 0.7583333333333333, 0.7583333333333333, 0.7666666666666667, 0.7833333333333333, 0.7916666666666666, 0.8, 0.8, 0.8083333333333333, 0.8166666666666667, 0.825, 0.8416666666666667, 0.85, 0.8583333333333333, 0.8666666666666667, 0.875, 0.875, 0.8833333333333333, 0.8833333333333333, 0.8833333333333333, 0.8916666666666667, 0.8916666666666667, 0.8916666666666667, 0.8916666666666667, 0.8916666666666667, 0.9, 0.9083333333333333, 0.9166666666666666, 0.9166666666666666, 0.9166666666666666, 0.925, 0.925, 0.925, 0.925, 0.925, 0.925, 0.925, 0.925, 0.9333333333333333, 0.9333333333333333, 0.9333333333333333, 0.9333333333333333, 0.9333333333333333, 0.9333333333333333, 0.9333333333333333, 0.9416666666666667, 0.9416666666666667, 0.9416666666666667, 0.9416666666666667, 0.9416666666666667, 0.9416666666666667, 0.9416666666666667, 0.9416666666666667, 0.9416666666666667, 0.9416666666666667, 0.9416666666666667, 0.9416666666666667, 0.9416666666666667, 0.9416666666666667, 0.9416666666666667, 0.9416666666666667, 0.9416666666666667, 0.95, 0.95, 0.95, 0.9583333333333334, 0.9583333333333334, 0.9583333333333334, 0.9583333333333334, 0.9583333333333334, 0.9583333333333334, 0.9583333333333334]\n",
      "Train Loss: 0.4187123665857354 | Train Accuracy: [0.3333333333333333, 0.325, 0.5416666666666666, 0.6583333333333333, 0.6583333333333333, 0.6583333333333333, 0.6583333333333333, 0.6583333333333333, 0.6583333333333333, 0.6583333333333333, 0.675, 0.675, 0.675, 0.675, 0.6833333333333333, 0.6916666666666667, 0.7166666666666667, 0.725, 0.7583333333333333, 0.7583333333333333, 0.7666666666666667, 0.7833333333333333, 0.7916666666666666, 0.8, 0.8, 0.8083333333333333, 0.8166666666666667, 0.825, 0.8416666666666667, 0.85, 0.8583333333333333, 0.8666666666666667, 0.875, 0.875, 0.8833333333333333, 0.8833333333333333, 0.8833333333333333, 0.8916666666666667, 0.8916666666666667, 0.8916666666666667, 0.8916666666666667, 0.8916666666666667, 0.9, 0.9083333333333333, 0.9166666666666666, 0.9166666666666666, 0.9166666666666666, 0.925, 0.925, 0.925, 0.925, 0.925, 0.925, 0.925, 0.925, 0.9333333333333333, 0.9333333333333333, 0.9333333333333333, 0.9333333333333333, 0.9333333333333333, 0.9333333333333333, 0.9333333333333333, 0.9416666666666667, 0.9416666666666667, 0.9416666666666667, 0.9416666666666667, 0.9416666666666667, 0.9416666666666667, 0.9416666666666667, 0.9416666666666667, 0.9416666666666667, 0.9416666666666667, 0.9416666666666667, 0.9416666666666667, 0.9416666666666667, 0.9416666666666667, 0.9416666666666667, 0.9416666666666667, 0.9416666666666667, 0.95, 0.95, 0.95, 0.9583333333333334, 0.9583333333333334, 0.9583333333333334, 0.9583333333333334, 0.9583333333333334, 0.9583333333333334, 0.9583333333333334, 0.9583333333333334]\n",
      "Train Loss: 0.41726361614619356 | Train Accuracy: [0.3333333333333333, 0.325, 0.5416666666666666, 0.6583333333333333, 0.6583333333333333, 0.6583333333333333, 0.6583333333333333, 0.6583333333333333, 0.6583333333333333, 0.6583333333333333, 0.675, 0.675, 0.675, 0.675, 0.6833333333333333, 0.6916666666666667, 0.7166666666666667, 0.725, 0.7583333333333333, 0.7583333333333333, 0.7666666666666667, 0.7833333333333333, 0.7916666666666666, 0.8, 0.8, 0.8083333333333333, 0.8166666666666667, 0.825, 0.8416666666666667, 0.85, 0.8583333333333333, 0.8666666666666667, 0.875, 0.875, 0.8833333333333333, 0.8833333333333333, 0.8833333333333333, 0.8916666666666667, 0.8916666666666667, 0.8916666666666667, 0.8916666666666667, 0.8916666666666667, 0.9, 0.9083333333333333, 0.9166666666666666, 0.9166666666666666, 0.9166666666666666, 0.925, 0.925, 0.925, 0.925, 0.925, 0.925, 0.925, 0.925, 0.9333333333333333, 0.9333333333333333, 0.9333333333333333, 0.9333333333333333, 0.9333333333333333, 0.9333333333333333, 0.9333333333333333, 0.9416666666666667, 0.9416666666666667, 0.9416666666666667, 0.9416666666666667, 0.9416666666666667, 0.9416666666666667, 0.9416666666666667, 0.9416666666666667, 0.9416666666666667, 0.9416666666666667, 0.9416666666666667, 0.9416666666666667, 0.9416666666666667, 0.9416666666666667, 0.9416666666666667, 0.9416666666666667, 0.9416666666666667, 0.95, 0.95, 0.95, 0.9583333333333334, 0.9583333333333334, 0.9583333333333334, 0.9583333333333334, 0.9583333333333334, 0.9583333333333334, 0.9583333333333334, 0.9583333333333334, 0.9583333333333334]\n",
      "Train Loss: 0.4158317089271511 | Train Accuracy: [0.3333333333333333, 0.325, 0.5416666666666666, 0.6583333333333333, 0.6583333333333333, 0.6583333333333333, 0.6583333333333333, 0.6583333333333333, 0.6583333333333333, 0.6583333333333333, 0.675, 0.675, 0.675, 0.675, 0.6833333333333333, 0.6916666666666667, 0.7166666666666667, 0.725, 0.7583333333333333, 0.7583333333333333, 0.7666666666666667, 0.7833333333333333, 0.7916666666666666, 0.8, 0.8, 0.8083333333333333, 0.8166666666666667, 0.825, 0.8416666666666667, 0.85, 0.8583333333333333, 0.8666666666666667, 0.875, 0.875, 0.8833333333333333, 0.8833333333333333, 0.8833333333333333, 0.8916666666666667, 0.8916666666666667, 0.8916666666666667, 0.8916666666666667, 0.8916666666666667, 0.9, 0.9083333333333333, 0.9166666666666666, 0.9166666666666666, 0.9166666666666666, 0.925, 0.925, 0.925, 0.925, 0.925, 0.925, 0.925, 0.925, 0.9333333333333333, 0.9333333333333333, 0.9333333333333333, 0.9333333333333333, 0.9333333333333333, 0.9333333333333333, 0.9333333333333333, 0.9416666666666667, 0.9416666666666667, 0.9416666666666667, 0.9416666666666667, 0.9416666666666667, 0.9416666666666667, 0.9416666666666667, 0.9416666666666667, 0.9416666666666667, 0.9416666666666667, 0.9416666666666667, 0.9416666666666667, 0.9416666666666667, 0.9416666666666667, 0.9416666666666667, 0.9416666666666667, 0.9416666666666667, 0.95, 0.95, 0.95, 0.9583333333333334, 0.9583333333333334, 0.9583333333333334, 0.9583333333333334, 0.9583333333333334, 0.9583333333333334, 0.9583333333333334, 0.9583333333333334, 0.9583333333333334, 0.9583333333333334]\n",
      "Train Loss: 0.41441622540565887 | Train Accuracy: [0.3333333333333333, 0.325, 0.5416666666666666, 0.6583333333333333, 0.6583333333333333, 0.6583333333333333, 0.6583333333333333, 0.6583333333333333, 0.6583333333333333, 0.6583333333333333, 0.675, 0.675, 0.675, 0.675, 0.6833333333333333, 0.6916666666666667, 0.7166666666666667, 0.725, 0.7583333333333333, 0.7583333333333333, 0.7666666666666667, 0.7833333333333333, 0.7916666666666666, 0.8, 0.8, 0.8083333333333333, 0.8166666666666667, 0.825, 0.8416666666666667, 0.85, 0.8583333333333333, 0.8666666666666667, 0.875, 0.875, 0.8833333333333333, 0.8833333333333333, 0.8833333333333333, 0.8916666666666667, 0.8916666666666667, 0.8916666666666667, 0.8916666666666667, 0.8916666666666667, 0.9, 0.9083333333333333, 0.9166666666666666, 0.9166666666666666, 0.9166666666666666, 0.925, 0.925, 0.925, 0.925, 0.925, 0.925, 0.925, 0.925, 0.9333333333333333, 0.9333333333333333, 0.9333333333333333, 0.9333333333333333, 0.9333333333333333, 0.9333333333333333, 0.9333333333333333, 0.9416666666666667, 0.9416666666666667, 0.9416666666666667, 0.9416666666666667, 0.9416666666666667, 0.9416666666666667, 0.9416666666666667, 0.9416666666666667, 0.9416666666666667, 0.9416666666666667, 0.9416666666666667, 0.9416666666666667, 0.9416666666666667, 0.9416666666666667, 0.9416666666666667, 0.9416666666666667, 0.9416666666666667, 0.95, 0.95, 0.95, 0.9583333333333334, 0.9583333333333334, 0.9583333333333334, 0.9583333333333334, 0.9583333333333334, 0.9583333333333334, 0.9583333333333334, 0.9583333333333334, 0.9583333333333334, 0.9583333333333334, 0.9583333333333334]\n",
      "Train Loss: 0.4130167622244008 | Train Accuracy: [0.3333333333333333, 0.325, 0.5416666666666666, 0.6583333333333333, 0.6583333333333333, 0.6583333333333333, 0.6583333333333333, 0.6583333333333333, 0.6583333333333333, 0.6583333333333333, 0.675, 0.675, 0.675, 0.675, 0.6833333333333333, 0.6916666666666667, 0.7166666666666667, 0.725, 0.7583333333333333, 0.7583333333333333, 0.7666666666666667, 0.7833333333333333, 0.7916666666666666, 0.8, 0.8, 0.8083333333333333, 0.8166666666666667, 0.825, 0.8416666666666667, 0.85, 0.8583333333333333, 0.8666666666666667, 0.875, 0.875, 0.8833333333333333, 0.8833333333333333, 0.8833333333333333, 0.8916666666666667, 0.8916666666666667, 0.8916666666666667, 0.8916666666666667, 0.8916666666666667, 0.9, 0.9083333333333333, 0.9166666666666666, 0.9166666666666666, 0.9166666666666666, 0.925, 0.925, 0.925, 0.925, 0.925, 0.925, 0.925, 0.925, 0.9333333333333333, 0.9333333333333333, 0.9333333333333333, 0.9333333333333333, 0.9333333333333333, 0.9333333333333333, 0.9333333333333333, 0.9416666666666667, 0.9416666666666667, 0.9416666666666667, 0.9416666666666667, 0.9416666666666667, 0.9416666666666667, 0.9416666666666667, 0.9416666666666667, 0.9416666666666667, 0.9416666666666667, 0.9416666666666667, 0.9416666666666667, 0.9416666666666667, 0.9416666666666667, 0.9416666666666667, 0.9416666666666667, 0.9416666666666667, 0.95, 0.95, 0.95, 0.9583333333333334, 0.9583333333333334, 0.9583333333333334, 0.9583333333333334, 0.9583333333333334, 0.9583333333333334, 0.9583333333333334, 0.9583333333333334, 0.9583333333333334, 0.9583333333333334, 0.9583333333333334, 0.9583333333333334]\n",
      "Train Loss: 0.4116329313948113 | Train Accuracy: [0.3333333333333333, 0.325, 0.5416666666666666, 0.6583333333333333, 0.6583333333333333, 0.6583333333333333, 0.6583333333333333, 0.6583333333333333, 0.6583333333333333, 0.6583333333333333, 0.675, 0.675, 0.675, 0.675, 0.6833333333333333, 0.6916666666666667, 0.7166666666666667, 0.725, 0.7583333333333333, 0.7583333333333333, 0.7666666666666667, 0.7833333333333333, 0.7916666666666666, 0.8, 0.8, 0.8083333333333333, 0.8166666666666667, 0.825, 0.8416666666666667, 0.85, 0.8583333333333333, 0.8666666666666667, 0.875, 0.875, 0.8833333333333333, 0.8833333333333333, 0.8833333333333333, 0.8916666666666667, 0.8916666666666667, 0.8916666666666667, 0.8916666666666667, 0.8916666666666667, 0.9, 0.9083333333333333, 0.9166666666666666, 0.9166666666666666, 0.9166666666666666, 0.925, 0.925, 0.925, 0.925, 0.925, 0.925, 0.925, 0.925, 0.9333333333333333, 0.9333333333333333, 0.9333333333333333, 0.9333333333333333, 0.9333333333333333, 0.9333333333333333, 0.9333333333333333, 0.9416666666666667, 0.9416666666666667, 0.9416666666666667, 0.9416666666666667, 0.9416666666666667, 0.9416666666666667, 0.9416666666666667, 0.9416666666666667, 0.9416666666666667, 0.9416666666666667, 0.9416666666666667, 0.9416666666666667, 0.9416666666666667, 0.9416666666666667, 0.9416666666666667, 0.9416666666666667, 0.9416666666666667, 0.95, 0.95, 0.95, 0.9583333333333334, 0.9583333333333334, 0.9583333333333334, 0.9583333333333334, 0.9583333333333334, 0.9583333333333334, 0.9583333333333334, 0.9583333333333334, 0.9583333333333334, 0.9583333333333334, 0.9583333333333334, 0.9583333333333334, 0.9583333333333334]\n",
      "Train Loss: 0.4102643595469446 | Train Accuracy: [0.3333333333333333, 0.325, 0.5416666666666666, 0.6583333333333333, 0.6583333333333333, 0.6583333333333333, 0.6583333333333333, 0.6583333333333333, 0.6583333333333333, 0.6583333333333333, 0.675, 0.675, 0.675, 0.675, 0.6833333333333333, 0.6916666666666667, 0.7166666666666667, 0.725, 0.7583333333333333, 0.7583333333333333, 0.7666666666666667, 0.7833333333333333, 0.7916666666666666, 0.8, 0.8, 0.8083333333333333, 0.8166666666666667, 0.825, 0.8416666666666667, 0.85, 0.8583333333333333, 0.8666666666666667, 0.875, 0.875, 0.8833333333333333, 0.8833333333333333, 0.8833333333333333, 0.8916666666666667, 0.8916666666666667, 0.8916666666666667, 0.8916666666666667, 0.8916666666666667, 0.9, 0.9083333333333333, 0.9166666666666666, 0.9166666666666666, 0.9166666666666666, 0.925, 0.925, 0.925, 0.925, 0.925, 0.925, 0.925, 0.925, 0.9333333333333333, 0.9333333333333333, 0.9333333333333333, 0.9333333333333333, 0.9333333333333333, 0.9333333333333333, 0.9333333333333333, 0.9416666666666667, 0.9416666666666667, 0.9416666666666667, 0.9416666666666667, 0.9416666666666667, 0.9416666666666667, 0.9416666666666667, 0.9416666666666667, 0.9416666666666667, 0.9416666666666667, 0.9416666666666667, 0.9416666666666667, 0.9416666666666667, 0.9416666666666667, 0.9416666666666667, 0.9416666666666667, 0.9416666666666667, 0.95, 0.95, 0.95, 0.9583333333333334, 0.9583333333333334, 0.9583333333333334, 0.9583333333333334, 0.9583333333333334, 0.9583333333333334, 0.9583333333333334, 0.9583333333333334, 0.9583333333333334, 0.9583333333333334, 0.9583333333333334, 0.9583333333333334, 0.9583333333333334, 0.9583333333333334]\n",
      "Train Loss: 0.4089106872229343 | Train Accuracy: [0.3333333333333333, 0.325, 0.5416666666666666, 0.6583333333333333, 0.6583333333333333, 0.6583333333333333, 0.6583333333333333, 0.6583333333333333, 0.6583333333333333, 0.6583333333333333, 0.675, 0.675, 0.675, 0.675, 0.6833333333333333, 0.6916666666666667, 0.7166666666666667, 0.725, 0.7583333333333333, 0.7583333333333333, 0.7666666666666667, 0.7833333333333333, 0.7916666666666666, 0.8, 0.8, 0.8083333333333333, 0.8166666666666667, 0.825, 0.8416666666666667, 0.85, 0.8583333333333333, 0.8666666666666667, 0.875, 0.875, 0.8833333333333333, 0.8833333333333333, 0.8833333333333333, 0.8916666666666667, 0.8916666666666667, 0.8916666666666667, 0.8916666666666667, 0.8916666666666667, 0.9, 0.9083333333333333, 0.9166666666666666, 0.9166666666666666, 0.9166666666666666, 0.925, 0.925, 0.925, 0.925, 0.925, 0.925, 0.925, 0.925, 0.9333333333333333, 0.9333333333333333, 0.9333333333333333, 0.9333333333333333, 0.9333333333333333, 0.9333333333333333, 0.9333333333333333, 0.9416666666666667, 0.9416666666666667, 0.9416666666666667, 0.9416666666666667, 0.9416666666666667, 0.9416666666666667, 0.9416666666666667, 0.9416666666666667, 0.9416666666666667, 0.9416666666666667, 0.9416666666666667, 0.9416666666666667, 0.9416666666666667, 0.9416666666666667, 0.9416666666666667, 0.9416666666666667, 0.9416666666666667, 0.95, 0.95, 0.95, 0.9583333333333334, 0.9583333333333334, 0.9583333333333334, 0.9583333333333334, 0.9583333333333334, 0.9583333333333334, 0.9583333333333334, 0.9583333333333334, 0.9583333333333334, 0.9583333333333334, 0.9583333333333334, 0.9583333333333334, 0.9583333333333334, 0.9583333333333334, 0.9583333333333334]\n",
      "Train Loss: 0.4075715682111233 | Train Accuracy: [0.3333333333333333, 0.325, 0.5416666666666666, 0.6583333333333333, 0.6583333333333333, 0.6583333333333333, 0.6583333333333333, 0.6583333333333333, 0.6583333333333333, 0.6583333333333333, 0.675, 0.675, 0.675, 0.675, 0.6833333333333333, 0.6916666666666667, 0.7166666666666667, 0.725, 0.7583333333333333, 0.7583333333333333, 0.7666666666666667, 0.7833333333333333, 0.7916666666666666, 0.8, 0.8, 0.8083333333333333, 0.8166666666666667, 0.825, 0.8416666666666667, 0.85, 0.8583333333333333, 0.8666666666666667, 0.875, 0.875, 0.8833333333333333, 0.8833333333333333, 0.8833333333333333, 0.8916666666666667, 0.8916666666666667, 0.8916666666666667, 0.8916666666666667, 0.8916666666666667, 0.9, 0.9083333333333333, 0.9166666666666666, 0.9166666666666666, 0.9166666666666666, 0.925, 0.925, 0.925, 0.925, 0.925, 0.925, 0.925, 0.925, 0.9333333333333333, 0.9333333333333333, 0.9333333333333333, 0.9333333333333333, 0.9333333333333333, 0.9333333333333333, 0.9333333333333333, 0.9416666666666667, 0.9416666666666667, 0.9416666666666667, 0.9416666666666667, 0.9416666666666667, 0.9416666666666667, 0.9416666666666667, 0.9416666666666667, 0.9416666666666667, 0.9416666666666667, 0.9416666666666667, 0.9416666666666667, 0.9416666666666667, 0.9416666666666667, 0.9416666666666667, 0.9416666666666667, 0.9416666666666667, 0.95, 0.95, 0.95, 0.9583333333333334, 0.9583333333333334, 0.9583333333333334, 0.9583333333333334, 0.9583333333333334, 0.9583333333333334, 0.9583333333333334, 0.9583333333333334, 0.9583333333333334, 0.9583333333333334, 0.9583333333333334, 0.9583333333333334, 0.9583333333333334, 0.9583333333333334, 0.9583333333333334, 0.9583333333333334]\n",
      "Train Loss: 0.40624666891816447 | Train Accuracy: [0.3333333333333333, 0.325, 0.5416666666666666, 0.6583333333333333, 0.6583333333333333, 0.6583333333333333, 0.6583333333333333, 0.6583333333333333, 0.6583333333333333, 0.6583333333333333, 0.675, 0.675, 0.675, 0.675, 0.6833333333333333, 0.6916666666666667, 0.7166666666666667, 0.725, 0.7583333333333333, 0.7583333333333333, 0.7666666666666667, 0.7833333333333333, 0.7916666666666666, 0.8, 0.8, 0.8083333333333333, 0.8166666666666667, 0.825, 0.8416666666666667, 0.85, 0.8583333333333333, 0.8666666666666667, 0.875, 0.875, 0.8833333333333333, 0.8833333333333333, 0.8833333333333333, 0.8916666666666667, 0.8916666666666667, 0.8916666666666667, 0.8916666666666667, 0.8916666666666667, 0.9, 0.9083333333333333, 0.9166666666666666, 0.9166666666666666, 0.9166666666666666, 0.925, 0.925, 0.925, 0.925, 0.925, 0.925, 0.925, 0.925, 0.9333333333333333, 0.9333333333333333, 0.9333333333333333, 0.9333333333333333, 0.9333333333333333, 0.9333333333333333, 0.9333333333333333, 0.9416666666666667, 0.9416666666666667, 0.9416666666666667, 0.9416666666666667, 0.9416666666666667, 0.9416666666666667, 0.9416666666666667, 0.9416666666666667, 0.9416666666666667, 0.9416666666666667, 0.9416666666666667, 0.9416666666666667, 0.9416666666666667, 0.9416666666666667, 0.9416666666666667, 0.9416666666666667, 0.9416666666666667, 0.95, 0.95, 0.95, 0.9583333333333334, 0.9583333333333334, 0.9583333333333334, 0.9583333333333334, 0.9583333333333334, 0.9583333333333334, 0.9583333333333334, 0.9583333333333334, 0.9583333333333334, 0.9583333333333334, 0.9583333333333334, 0.9583333333333334, 0.9583333333333334, 0.9583333333333334, 0.9583333333333334, 0.9583333333333334, 0.9583333333333334]\n",
      "Train Loss: 0.40493566777659507 | Train Accuracy: [0.3333333333333333, 0.325, 0.5416666666666666, 0.6583333333333333, 0.6583333333333333, 0.6583333333333333, 0.6583333333333333, 0.6583333333333333, 0.6583333333333333, 0.6583333333333333, 0.675, 0.675, 0.675, 0.675, 0.6833333333333333, 0.6916666666666667, 0.7166666666666667, 0.725, 0.7583333333333333, 0.7583333333333333, 0.7666666666666667, 0.7833333333333333, 0.7916666666666666, 0.8, 0.8, 0.8083333333333333, 0.8166666666666667, 0.825, 0.8416666666666667, 0.85, 0.8583333333333333, 0.8666666666666667, 0.875, 0.875, 0.8833333333333333, 0.8833333333333333, 0.8833333333333333, 0.8916666666666667, 0.8916666666666667, 0.8916666666666667, 0.8916666666666667, 0.8916666666666667, 0.9, 0.9083333333333333, 0.9166666666666666, 0.9166666666666666, 0.9166666666666666, 0.925, 0.925, 0.925, 0.925, 0.925, 0.925, 0.925, 0.925, 0.9333333333333333, 0.9333333333333333, 0.9333333333333333, 0.9333333333333333, 0.9333333333333333, 0.9333333333333333, 0.9333333333333333, 0.9416666666666667, 0.9416666666666667, 0.9416666666666667, 0.9416666666666667, 0.9416666666666667, 0.9416666666666667, 0.9416666666666667, 0.9416666666666667, 0.9416666666666667, 0.9416666666666667, 0.9416666666666667, 0.9416666666666667, 0.9416666666666667, 0.9416666666666667, 0.9416666666666667, 0.9416666666666667, 0.9416666666666667, 0.95, 0.95, 0.95, 0.9583333333333334, 0.9583333333333334, 0.9583333333333334, 0.9583333333333334, 0.9583333333333334, 0.9583333333333334, 0.9583333333333334, 0.9583333333333334, 0.9583333333333334, 0.9583333333333334, 0.9583333333333334, 0.9583333333333334, 0.9583333333333334, 0.9583333333333334, 0.9583333333333334, 0.9583333333333334, 0.9583333333333334, 0.9583333333333334]\n"
     ]
    },
    {
     "data": {
      "text/plain": [
       "0.9583333333333334"
      ]
     },
     "execution_count": 46,
     "metadata": {},
     "output_type": "execute_result"
    }
   ],
   "source": [
    "model = MultinomijalnaLogistickaRegresija(num_classes=3, learning_rate=7e-2)\n",
    "model.train(x_train, y_train, epochs=100)\n",
    "\n",
    "_, y_train_pred = model.predict(x_train)\n",
    "accuracy_score(y_train, y_train_pred)"
   ]
  },
  {
   "cell_type": "code",
   "execution_count": null,
   "id": "281f9d0a-0ae7-40ed-b62e-6e15e85fec05",
   "metadata": {},
   "outputs": [],
   "source": [
    "plt.plot(model.losses)\n",
    "plt.show()"
   ]
  },
  {
   "cell_type": "code",
   "execution_count": null,
   "id": "0f8978ab-07d5-47ae-b43d-ad6295d3078d",
   "metadata": {},
   "outputs": [],
   "source": [
    "_, y_test_pred = model.predict(x_test)\n",
    "accuracy_score(y_test, y_test_pred)"
   ]
  },
  {
   "cell_type": "code",
   "execution_count": 35,
   "id": "a79e1408-9330-4bc1-8fe8-0dc469a79091",
   "metadata": {},
   "outputs": [
    {
     "data": {
      "text/plain": [
       "0.975"
      ]
     },
     "execution_count": 35,
     "metadata": {},
     "output_type": "execute_result"
    }
   ],
   "source": [
    "mlr = LogisticRegression(random_state=0).fit(x_train, y_train)\n",
    "y_train_pred = (mlr.predict(x_train))\n",
    "accuracy_score(y_train, y_train_pred)"
   ]
  },
  {
   "cell_type": "code",
   "execution_count": 36,
   "id": "fa4be638-f1c7-4fd0-852d-9ecb45738d06",
   "metadata": {},
   "outputs": [
    {
     "data": {
      "text/plain": [
       "1.0"
      ]
     },
     "execution_count": 36,
     "metadata": {},
     "output_type": "execute_result"
    }
   ],
   "source": [
    "y_test_pred = (mlr.predict(x_test))\n",
    "accuracy_score(y_test, y_test_pred)"
   ]
  },
  {
   "cell_type": "code",
   "execution_count": null,
   "id": "b68142b7-9e04-4989-a8d0-948cade2b390",
   "metadata": {},
   "outputs": [],
   "source": []
  }
 ],
 "metadata": {
  "kernelspec": {
   "display_name": "Python 3 (ipykernel)",
   "language": "python",
   "name": "python3"
  },
  "language_info": {
   "codemirror_mode": {
    "name": "ipython",
    "version": 3
   },
   "file_extension": ".py",
   "mimetype": "text/x-python",
   "name": "python",
   "nbconvert_exporter": "python",
   "pygments_lexer": "ipython3",
   "version": "3.11.7"
  }
 },
 "nbformat": 4,
 "nbformat_minor": 5
}
